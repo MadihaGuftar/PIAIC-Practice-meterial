{
  "nbformat": 4,
  "nbformat_minor": 0,
  "metadata": {
    "accelerator": "TPU",
    "colab": {
      "name": "PIAIC121558_Compressive_Concrete_Strength_Assignment.ipynb",
      "provenance": [],
      "collapsed_sections": [],
      "toc_visible": true
    },
    "kernelspec": {
      "display_name": "Python 3",
      "language": "python",
      "name": "python3"
    },
    "language_info": {
      "codemirror_mode": {
        "name": "ipython",
        "version": 3
      },
      "file_extension": ".py",
      "mimetype": "text/x-python",
      "name": "python",
      "nbconvert_exporter": "python",
      "pygments_lexer": "ipython3",
      "version": "3.9.2"
    }
  },
  "cells": [
    {
      "cell_type": "markdown",
      "metadata": {
        "id": "0YeQVV8EK9bg"
      },
      "source": [
        "# **Compressive Strength Concrete Assignment**"
      ]
    },
    {
      "cell_type": "code",
      "metadata": {
        "id": "NipDpuvkCmi6"
      },
      "source": [
        "import pandas as pd\n",
        "import numpy as np\n",
        "import matplotlib.pyplot as plt"
      ],
      "execution_count": 72,
      "outputs": []
    },
    {
      "cell_type": "code",
      "metadata": {
        "colab": {
          "base_uri": "https://localhost:8080/"
        },
        "id": "Q2qja1u5LEGn",
        "outputId": "c0de12ce-1272-4e4f-9324-7b672bb6e7c4"
      },
      "source": [
        "from google.colab import drive\n",
        "drive.mount('/content/drive')"
      ],
      "execution_count": 73,
      "outputs": [
        {
          "output_type": "stream",
          "text": [
            "Drive already mounted at /content/drive; to attempt to forcibly remount, call drive.mount(\"/content/drive\", force_remount=True).\n"
          ],
          "name": "stdout"
        }
      ]
    },
    {
      "cell_type": "code",
      "metadata": {
        "id": "B_vpinNiCxTc"
      },
      "source": [
        "data=pd.read_csv('/content/drive/MyDrive/DL Assignments/compresive_strength_concrete.csv')"
      ],
      "execution_count": 74,
      "outputs": []
    },
    {
      "cell_type": "code",
      "metadata": {
        "colab": {
          "base_uri": "https://localhost:8080/"
        },
        "id": "VcJwnsAHIgRW",
        "outputId": "45861ece-f177-44ba-e162-a5cdab85be36"
      },
      "source": [
        "data.shape"
      ],
      "execution_count": 75,
      "outputs": [
        {
          "output_type": "execute_result",
          "data": {
            "text/plain": [
              "(1030, 9)"
            ]
          },
          "metadata": {
            "tags": []
          },
          "execution_count": 75
        }
      ]
    },
    {
      "cell_type": "code",
      "metadata": {
        "colab": {
          "base_uri": "https://localhost:8080/",
          "height": 289
        },
        "id": "U0yFP1M6Ikh-",
        "outputId": "498eaec5-9d49-4890-be2d-1014a8bafead"
      },
      "source": [
        "data.head()"
      ],
      "execution_count": 76,
      "outputs": [
        {
          "output_type": "execute_result",
          "data": {
            "text/html": [
              "<div>\n",
              "<style scoped>\n",
              "    .dataframe tbody tr th:only-of-type {\n",
              "        vertical-align: middle;\n",
              "    }\n",
              "\n",
              "    .dataframe tbody tr th {\n",
              "        vertical-align: top;\n",
              "    }\n",
              "\n",
              "    .dataframe thead th {\n",
              "        text-align: right;\n",
              "    }\n",
              "</style>\n",
              "<table border=\"1\" class=\"dataframe\">\n",
              "  <thead>\n",
              "    <tr style=\"text-align: right;\">\n",
              "      <th></th>\n",
              "      <th>Cement (component 1)(kg in a m^3 mixture)</th>\n",
              "      <th>Blast Furnace Slag (component 2)(kg in a m^3 mixture)</th>\n",
              "      <th>Fly Ash (component 3)(kg in a m^3 mixture)</th>\n",
              "      <th>Water  (component 4)(kg in a m^3 mixture)</th>\n",
              "      <th>Superplasticizer (component 5)(kg in a m^3 mixture)</th>\n",
              "      <th>Coarse Aggregate  (component 6)(kg in a m^3 mixture)</th>\n",
              "      <th>Fine Aggregate (component 7)(kg in a m^3 mixture)</th>\n",
              "      <th>Age (day)</th>\n",
              "      <th>Concrete compressive strength(MPa, megapascals)</th>\n",
              "    </tr>\n",
              "  </thead>\n",
              "  <tbody>\n",
              "    <tr>\n",
              "      <th>0</th>\n",
              "      <td>540.0</td>\n",
              "      <td>0.0</td>\n",
              "      <td>0.0</td>\n",
              "      <td>162.0</td>\n",
              "      <td>2.5</td>\n",
              "      <td>1040.0</td>\n",
              "      <td>676.0</td>\n",
              "      <td>28</td>\n",
              "      <td>79.99</td>\n",
              "    </tr>\n",
              "    <tr>\n",
              "      <th>1</th>\n",
              "      <td>540.0</td>\n",
              "      <td>0.0</td>\n",
              "      <td>0.0</td>\n",
              "      <td>162.0</td>\n",
              "      <td>2.5</td>\n",
              "      <td>1055.0</td>\n",
              "      <td>676.0</td>\n",
              "      <td>28</td>\n",
              "      <td>61.89</td>\n",
              "    </tr>\n",
              "    <tr>\n",
              "      <th>2</th>\n",
              "      <td>332.5</td>\n",
              "      <td>142.5</td>\n",
              "      <td>0.0</td>\n",
              "      <td>228.0</td>\n",
              "      <td>0.0</td>\n",
              "      <td>932.0</td>\n",
              "      <td>594.0</td>\n",
              "      <td>270</td>\n",
              "      <td>40.27</td>\n",
              "    </tr>\n",
              "    <tr>\n",
              "      <th>3</th>\n",
              "      <td>332.5</td>\n",
              "      <td>142.5</td>\n",
              "      <td>0.0</td>\n",
              "      <td>228.0</td>\n",
              "      <td>0.0</td>\n",
              "      <td>932.0</td>\n",
              "      <td>594.0</td>\n",
              "      <td>365</td>\n",
              "      <td>41.05</td>\n",
              "    </tr>\n",
              "    <tr>\n",
              "      <th>4</th>\n",
              "      <td>198.6</td>\n",
              "      <td>132.4</td>\n",
              "      <td>0.0</td>\n",
              "      <td>192.0</td>\n",
              "      <td>0.0</td>\n",
              "      <td>978.4</td>\n",
              "      <td>825.5</td>\n",
              "      <td>360</td>\n",
              "      <td>44.30</td>\n",
              "    </tr>\n",
              "  </tbody>\n",
              "</table>\n",
              "</div>"
            ],
            "text/plain": [
              "   Cement (component 1)(kg in a m^3 mixture)  ...  Concrete compressive strength(MPa, megapascals) \n",
              "0                                      540.0  ...                                             79.99\n",
              "1                                      540.0  ...                                             61.89\n",
              "2                                      332.5  ...                                             40.27\n",
              "3                                      332.5  ...                                             41.05\n",
              "4                                      198.6  ...                                             44.30\n",
              "\n",
              "[5 rows x 9 columns]"
            ]
          },
          "metadata": {
            "tags": []
          },
          "execution_count": 76
        }
      ]
    },
    {
      "cell_type": "code",
      "metadata": {
        "colab": {
          "base_uri": "https://localhost:8080/"
        },
        "id": "PE_VT1V77PMJ",
        "outputId": "a435641e-c5ea-40fc-cb78-81fcf4274826"
      },
      "source": [
        "data.isnull().sum()"
      ],
      "execution_count": 77,
      "outputs": [
        {
          "output_type": "execute_result",
          "data": {
            "text/plain": [
              "Cement (component 1)(kg in a m^3 mixture)                0\n",
              "Blast Furnace Slag (component 2)(kg in a m^3 mixture)    0\n",
              "Fly Ash (component 3)(kg in a m^3 mixture)               0\n",
              "Water  (component 4)(kg in a m^3 mixture)                0\n",
              "Superplasticizer (component 5)(kg in a m^3 mixture)      0\n",
              "Coarse Aggregate  (component 6)(kg in a m^3 mixture)     0\n",
              "Fine Aggregate (component 7)(kg in a m^3 mixture)        0\n",
              "Age (day)                                                0\n",
              "Concrete compressive strength(MPa, megapascals)          0\n",
              "dtype: int64"
            ]
          },
          "metadata": {
            "tags": []
          },
          "execution_count": 77
        }
      ]
    },
    {
      "cell_type": "code",
      "metadata": {
        "colab": {
          "base_uri": "https://localhost:8080/"
        },
        "id": "q6qNBHLd7PMJ",
        "outputId": "279b5500-657f-4495-f637-91e9b8a3f8f3"
      },
      "source": [
        "np.where(data.applymap(lambda x: x == ''))"
      ],
      "execution_count": 78,
      "outputs": [
        {
          "output_type": "execute_result",
          "data": {
            "text/plain": [
              "(array([], dtype=int64), array([], dtype=int64))"
            ]
          },
          "metadata": {
            "tags": []
          },
          "execution_count": 78
        }
      ]
    },
    {
      "cell_type": "code",
      "metadata": {
        "id": "7NxcIQ-27PMK"
      },
      "source": [
        "X_train = data.sample(frac = 0.7, random_state = 123)\n",
        "X_test = data.drop(X_train.index)"
      ],
      "execution_count": 79,
      "outputs": []
    },
    {
      "cell_type": "code",
      "metadata": {
        "colab": {
          "base_uri": "https://localhost:8080/",
          "height": 289
        },
        "id": "cmnXO6Jo7PML",
        "outputId": "9f118670-02c9-43e8-ccbb-02cd31d3bf81"
      },
      "source": [
        "X_train.head()"
      ],
      "execution_count": 80,
      "outputs": [
        {
          "output_type": "execute_result",
          "data": {
            "text/html": [
              "<div>\n",
              "<style scoped>\n",
              "    .dataframe tbody tr th:only-of-type {\n",
              "        vertical-align: middle;\n",
              "    }\n",
              "\n",
              "    .dataframe tbody tr th {\n",
              "        vertical-align: top;\n",
              "    }\n",
              "\n",
              "    .dataframe thead th {\n",
              "        text-align: right;\n",
              "    }\n",
              "</style>\n",
              "<table border=\"1\" class=\"dataframe\">\n",
              "  <thead>\n",
              "    <tr style=\"text-align: right;\">\n",
              "      <th></th>\n",
              "      <th>Cement (component 1)(kg in a m^3 mixture)</th>\n",
              "      <th>Blast Furnace Slag (component 2)(kg in a m^3 mixture)</th>\n",
              "      <th>Fly Ash (component 3)(kg in a m^3 mixture)</th>\n",
              "      <th>Water  (component 4)(kg in a m^3 mixture)</th>\n",
              "      <th>Superplasticizer (component 5)(kg in a m^3 mixture)</th>\n",
              "      <th>Coarse Aggregate  (component 6)(kg in a m^3 mixture)</th>\n",
              "      <th>Fine Aggregate (component 7)(kg in a m^3 mixture)</th>\n",
              "      <th>Age (day)</th>\n",
              "      <th>Concrete compressive strength(MPa, megapascals)</th>\n",
              "    </tr>\n",
              "  </thead>\n",
              "  <tbody>\n",
              "    <tr>\n",
              "      <th>134</th>\n",
              "      <td>362.6</td>\n",
              "      <td>189.0</td>\n",
              "      <td>0.0</td>\n",
              "      <td>164.9</td>\n",
              "      <td>11.6</td>\n",
              "      <td>944.7</td>\n",
              "      <td>755.8</td>\n",
              "      <td>28</td>\n",
              "      <td>71.30</td>\n",
              "    </tr>\n",
              "    <tr>\n",
              "      <th>13</th>\n",
              "      <td>190.0</td>\n",
              "      <td>190.0</td>\n",
              "      <td>0.0</td>\n",
              "      <td>228.0</td>\n",
              "      <td>0.0</td>\n",
              "      <td>932.0</td>\n",
              "      <td>670.0</td>\n",
              "      <td>90</td>\n",
              "      <td>42.33</td>\n",
              "    </tr>\n",
              "    <tr>\n",
              "      <th>996</th>\n",
              "      <td>152.6</td>\n",
              "      <td>238.7</td>\n",
              "      <td>0.0</td>\n",
              "      <td>200.0</td>\n",
              "      <td>6.3</td>\n",
              "      <td>1001.8</td>\n",
              "      <td>683.9</td>\n",
              "      <td>28</td>\n",
              "      <td>26.86</td>\n",
              "    </tr>\n",
              "    <tr>\n",
              "      <th>770</th>\n",
              "      <td>349.0</td>\n",
              "      <td>0.0</td>\n",
              "      <td>0.0</td>\n",
              "      <td>192.0</td>\n",
              "      <td>0.0</td>\n",
              "      <td>1047.0</td>\n",
              "      <td>806.0</td>\n",
              "      <td>3</td>\n",
              "      <td>14.99</td>\n",
              "    </tr>\n",
              "    <tr>\n",
              "      <th>937</th>\n",
              "      <td>313.3</td>\n",
              "      <td>0.0</td>\n",
              "      <td>113.0</td>\n",
              "      <td>178.5</td>\n",
              "      <td>8.0</td>\n",
              "      <td>1001.9</td>\n",
              "      <td>688.7</td>\n",
              "      <td>28</td>\n",
              "      <td>36.80</td>\n",
              "    </tr>\n",
              "  </tbody>\n",
              "</table>\n",
              "</div>"
            ],
            "text/plain": [
              "     Cement (component 1)(kg in a m^3 mixture)  ...  Concrete compressive strength(MPa, megapascals) \n",
              "134                                      362.6  ...                                             71.30\n",
              "13                                       190.0  ...                                             42.33\n",
              "996                                      152.6  ...                                             26.86\n",
              "770                                      349.0  ...                                             14.99\n",
              "937                                      313.3  ...                                             36.80\n",
              "\n",
              "[5 rows x 9 columns]"
            ]
          },
          "metadata": {
            "tags": []
          },
          "execution_count": 80
        }
      ]
    },
    {
      "cell_type": "code",
      "metadata": {
        "id": "OTv_VabYIj83"
      },
      "source": [
        "Y_train = X_train.iloc[:,-1]\n",
        "X_train = X_train.iloc[:,0:-1]\n",
        "Y_test = X_test.iloc[:,-1]\n",
        "X_test = X_test.iloc[:,0:-1]"
      ],
      "execution_count": 81,
      "outputs": []
    },
    {
      "cell_type": "code",
      "metadata": {
        "id": "KHF-Yeo2JTyg"
      },
      "source": [
        "X_mean = X_train.mean()\n",
        "X_train -= X_mean\n",
        "X_std = X_train.std()\n",
        "X_train /= X_std\n",
        "X_test -= X_mean\n",
        "X_test /= X_std"
      ],
      "execution_count": 82,
      "outputs": []
    },
    {
      "cell_type": "code",
      "metadata": {
        "id": "mpPneUs-7PMO"
      },
      "source": [
        "Y_mean = Y_train.mean()\n",
        "Y_train -= Y_mean\n",
        "Y_std = Y_train.std()\n",
        "Y_train /= Y_std\n",
        "Y_test -= Y_mean\n",
        "Y_test /= Y_std"
      ],
      "execution_count": 83,
      "outputs": []
    },
    {
      "cell_type": "code",
      "metadata": {
        "colab": {
          "base_uri": "https://localhost:8080/"
        },
        "id": "vtYAuuaj7PMO",
        "outputId": "efa7e4bd-4351-49f8-8092-d086d3fd5c2a"
      },
      "source": [
        "X_train.dtypes"
      ],
      "execution_count": 84,
      "outputs": [
        {
          "output_type": "execute_result",
          "data": {
            "text/plain": [
              "Cement (component 1)(kg in a m^3 mixture)                float64\n",
              "Blast Furnace Slag (component 2)(kg in a m^3 mixture)    float64\n",
              "Fly Ash (component 3)(kg in a m^3 mixture)               float64\n",
              "Water  (component 4)(kg in a m^3 mixture)                float64\n",
              "Superplasticizer (component 5)(kg in a m^3 mixture)      float64\n",
              "Coarse Aggregate  (component 6)(kg in a m^3 mixture)     float64\n",
              "Fine Aggregate (component 7)(kg in a m^3 mixture)        float64\n",
              "Age (day)                                                float64\n",
              "dtype: object"
            ]
          },
          "metadata": {
            "tags": []
          },
          "execution_count": 84
        }
      ]
    },
    {
      "cell_type": "code",
      "metadata": {
        "id": "9HzdEgGm7PMQ"
      },
      "source": [
        "X_train = X_train.to_numpy()\n",
        "Y_train = Y_train.to_numpy()\n",
        "X_test = X_test.to_numpy()\n",
        "Y_test = Y_test.to_numpy()"
      ],
      "execution_count": 85,
      "outputs": []
    },
    {
      "cell_type": "code",
      "metadata": {
        "id": "N71E3GgCMTCO"
      },
      "source": [
        "# Model Architecture\n",
        "from tensorflow.keras import layers\n",
        "from tensorflow.keras import models\n",
        "model=models.Sequential()\n",
        "model.add(layers.Dense(128,activation=\"relu\",input_shape=(X_train.shape[1],)))\n",
        "model.add(layers.Dense(64,activation=\"relu\"))\n",
        "model.add(layers.Dense(32,activation=\"relu\"))\n",
        "model.add(layers.Dense(1))"
      ],
      "execution_count": 118,
      "outputs": []
    },
    {
      "cell_type": "code",
      "metadata": {
        "id": "zSyeoyk0Nsa2"
      },
      "source": [
        "# Compilation\n",
        "model.compile(optimizer=\"rmsprop\",loss=[\"mse\"],metrics=[\"mae\"])"
      ],
      "execution_count": 119,
      "outputs": []
    },
    {
      "cell_type": "code",
      "metadata": {
        "colab": {
          "base_uri": "https://localhost:8080/"
        },
        "id": "E8cCCFviOKuF",
        "outputId": "99e4598a-488e-4b03-e150-7e68d54730c4"
      },
      "source": [
        "history = model.fit(X_train,Y_train,epochs=220,validation_split=0.3, batch_size = 16)"
      ],
      "execution_count": 120,
      "outputs": [
        {
          "output_type": "stream",
          "text": [
            "Epoch 1/220\n",
            "32/32 [==============================] - 1s 7ms/step - loss: 0.5591 - mae: 0.5924 - val_loss: 0.4333 - val_mae: 0.5269\n",
            "Epoch 2/220\n",
            "32/32 [==============================] - 0s 3ms/step - loss: 0.3190 - mae: 0.4344 - val_loss: 0.3178 - val_mae: 0.4436\n",
            "Epoch 3/220\n",
            "32/32 [==============================] - 0s 3ms/step - loss: 0.2315 - mae: 0.3720 - val_loss: 0.2984 - val_mae: 0.4112\n",
            "Epoch 4/220\n",
            "32/32 [==============================] - 0s 3ms/step - loss: 0.1941 - mae: 0.3381 - val_loss: 0.2697 - val_mae: 0.4088\n",
            "Epoch 5/220\n",
            "32/32 [==============================] - 0s 3ms/step - loss: 0.1637 - mae: 0.3165 - val_loss: 0.2640 - val_mae: 0.3866\n",
            "Epoch 6/220\n",
            "32/32 [==============================] - 0s 4ms/step - loss: 0.1493 - mae: 0.3022 - val_loss: 0.2991 - val_mae: 0.4075\n",
            "Epoch 7/220\n",
            "32/32 [==============================] - 0s 3ms/step - loss: 0.1404 - mae: 0.2934 - val_loss: 0.2402 - val_mae: 0.3739\n",
            "Epoch 8/220\n",
            "32/32 [==============================] - 0s 3ms/step - loss: 0.1230 - mae: 0.2671 - val_loss: 0.2299 - val_mae: 0.3536\n",
            "Epoch 9/220\n",
            "32/32 [==============================] - 0s 3ms/step - loss: 0.1136 - mae: 0.2592 - val_loss: 0.2170 - val_mae: 0.3533\n",
            "Epoch 10/220\n",
            "32/32 [==============================] - 0s 3ms/step - loss: 0.1020 - mae: 0.2514 - val_loss: 0.2022 - val_mae: 0.3373\n",
            "Epoch 11/220\n",
            "32/32 [==============================] - 0s 3ms/step - loss: 0.0989 - mae: 0.2493 - val_loss: 0.2259 - val_mae: 0.3616\n",
            "Epoch 12/220\n",
            "32/32 [==============================] - 0s 3ms/step - loss: 0.0989 - mae: 0.2402 - val_loss: 0.1917 - val_mae: 0.3402\n",
            "Epoch 13/220\n",
            "32/32 [==============================] - 0s 3ms/step - loss: 0.0862 - mae: 0.2244 - val_loss: 0.1789 - val_mae: 0.3160\n",
            "Epoch 14/220\n",
            "32/32 [==============================] - 0s 3ms/step - loss: 0.0715 - mae: 0.2052 - val_loss: 0.1852 - val_mae: 0.3228\n",
            "Epoch 15/220\n",
            "32/32 [==============================] - 0s 3ms/step - loss: 0.0707 - mae: 0.2096 - val_loss: 0.2399 - val_mae: 0.3760\n",
            "Epoch 16/220\n",
            "32/32 [==============================] - 0s 4ms/step - loss: 0.0855 - mae: 0.2290 - val_loss: 0.1765 - val_mae: 0.3104\n",
            "Epoch 17/220\n",
            "32/32 [==============================] - 0s 3ms/step - loss: 0.0676 - mae: 0.2037 - val_loss: 0.1797 - val_mae: 0.3206\n",
            "Epoch 18/220\n",
            "32/32 [==============================] - 0s 3ms/step - loss: 0.0742 - mae: 0.2079 - val_loss: 0.1656 - val_mae: 0.2964\n",
            "Epoch 19/220\n",
            "32/32 [==============================] - 0s 3ms/step - loss: 0.0528 - mae: 0.1743 - val_loss: 0.2348 - val_mae: 0.3628\n",
            "Epoch 20/220\n",
            "32/32 [==============================] - 0s 3ms/step - loss: 0.0789 - mae: 0.2089 - val_loss: 0.1565 - val_mae: 0.2991\n",
            "Epoch 21/220\n",
            "32/32 [==============================] - 0s 3ms/step - loss: 0.0620 - mae: 0.1862 - val_loss: 0.1857 - val_mae: 0.3174\n",
            "Epoch 22/220\n",
            "32/32 [==============================] - 0s 3ms/step - loss: 0.0809 - mae: 0.2064 - val_loss: 0.1476 - val_mae: 0.2938\n",
            "Epoch 23/220\n",
            "32/32 [==============================] - 0s 3ms/step - loss: 0.0684 - mae: 0.1969 - val_loss: 0.1772 - val_mae: 0.3148\n",
            "Epoch 24/220\n",
            "32/32 [==============================] - 0s 3ms/step - loss: 0.0589 - mae: 0.1861 - val_loss: 0.1636 - val_mae: 0.2983\n",
            "Epoch 25/220\n",
            "32/32 [==============================] - 0s 3ms/step - loss: 0.0583 - mae: 0.1756 - val_loss: 0.1533 - val_mae: 0.2938\n",
            "Epoch 26/220\n",
            "32/32 [==============================] - 0s 3ms/step - loss: 0.0479 - mae: 0.1636 - val_loss: 0.1600 - val_mae: 0.3021\n",
            "Epoch 27/220\n",
            "32/32 [==============================] - 0s 3ms/step - loss: 0.0588 - mae: 0.1937 - val_loss: 0.1571 - val_mae: 0.2880\n",
            "Epoch 28/220\n",
            "32/32 [==============================] - 0s 3ms/step - loss: 0.0520 - mae: 0.1716 - val_loss: 0.1590 - val_mae: 0.2997\n",
            "Epoch 29/220\n",
            "32/32 [==============================] - 0s 3ms/step - loss: 0.0471 - mae: 0.1668 - val_loss: 0.1504 - val_mae: 0.2893\n",
            "Epoch 30/220\n",
            "32/32 [==============================] - 0s 3ms/step - loss: 0.0449 - mae: 0.1551 - val_loss: 0.1543 - val_mae: 0.3090\n",
            "Epoch 31/220\n",
            "32/32 [==============================] - 0s 3ms/step - loss: 0.0508 - mae: 0.1647 - val_loss: 0.1638 - val_mae: 0.2976\n",
            "Epoch 32/220\n",
            "32/32 [==============================] - 0s 3ms/step - loss: 0.0461 - mae: 0.1578 - val_loss: 0.1422 - val_mae: 0.2818\n",
            "Epoch 33/220\n",
            "32/32 [==============================] - 0s 3ms/step - loss: 0.0462 - mae: 0.1568 - val_loss: 0.1396 - val_mae: 0.2809\n",
            "Epoch 34/220\n",
            "32/32 [==============================] - 0s 3ms/step - loss: 0.0458 - mae: 0.1677 - val_loss: 0.1430 - val_mae: 0.2839\n",
            "Epoch 35/220\n",
            "32/32 [==============================] - 0s 3ms/step - loss: 0.0440 - mae: 0.1593 - val_loss: 0.1801 - val_mae: 0.3073\n",
            "Epoch 36/220\n",
            "32/32 [==============================] - 0s 3ms/step - loss: 0.0436 - mae: 0.1561 - val_loss: 0.1546 - val_mae: 0.2964\n",
            "Epoch 37/220\n",
            "32/32 [==============================] - 0s 3ms/step - loss: 0.0414 - mae: 0.1546 - val_loss: 0.1474 - val_mae: 0.2744\n",
            "Epoch 38/220\n",
            "32/32 [==============================] - 0s 3ms/step - loss: 0.0516 - mae: 0.1652 - val_loss: 0.1357 - val_mae: 0.2701\n",
            "Epoch 39/220\n",
            "32/32 [==============================] - 0s 3ms/step - loss: 0.0438 - mae: 0.1516 - val_loss: 0.1389 - val_mae: 0.2830\n",
            "Epoch 40/220\n",
            "32/32 [==============================] - 0s 3ms/step - loss: 0.0441 - mae: 0.1586 - val_loss: 0.1412 - val_mae: 0.2741\n",
            "Epoch 41/220\n",
            "32/32 [==============================] - 0s 3ms/step - loss: 0.0404 - mae: 0.1481 - val_loss: 0.1389 - val_mae: 0.2807\n",
            "Epoch 42/220\n",
            "32/32 [==============================] - 0s 3ms/step - loss: 0.0342 - mae: 0.1374 - val_loss: 0.1884 - val_mae: 0.3280\n",
            "Epoch 43/220\n",
            "32/32 [==============================] - 0s 3ms/step - loss: 0.0444 - mae: 0.1544 - val_loss: 0.2020 - val_mae: 0.3305\n",
            "Epoch 44/220\n",
            "32/32 [==============================] - 0s 3ms/step - loss: 0.0457 - mae: 0.1650 - val_loss: 0.1667 - val_mae: 0.3050\n",
            "Epoch 45/220\n",
            "32/32 [==============================] - 0s 3ms/step - loss: 0.0448 - mae: 0.1571 - val_loss: 0.1481 - val_mae: 0.2849\n",
            "Epoch 46/220\n",
            "32/32 [==============================] - 0s 3ms/step - loss: 0.0437 - mae: 0.1557 - val_loss: 0.1457 - val_mae: 0.2897\n",
            "Epoch 47/220\n",
            "32/32 [==============================] - 0s 3ms/step - loss: 0.0378 - mae: 0.1451 - val_loss: 0.1377 - val_mae: 0.2828\n",
            "Epoch 48/220\n",
            "32/32 [==============================] - 0s 3ms/step - loss: 0.0335 - mae: 0.1350 - val_loss: 0.1686 - val_mae: 0.2992\n",
            "Epoch 49/220\n",
            "32/32 [==============================] - 0s 3ms/step - loss: 0.0332 - mae: 0.1369 - val_loss: 0.1448 - val_mae: 0.2848\n",
            "Epoch 50/220\n",
            "32/32 [==============================] - 0s 3ms/step - loss: 0.0470 - mae: 0.1588 - val_loss: 0.1514 - val_mae: 0.2968\n",
            "Epoch 51/220\n",
            "32/32 [==============================] - 0s 3ms/step - loss: 0.0392 - mae: 0.1402 - val_loss: 0.1479 - val_mae: 0.2830\n",
            "Epoch 52/220\n",
            "32/32 [==============================] - 0s 3ms/step - loss: 0.0415 - mae: 0.1492 - val_loss: 0.1543 - val_mae: 0.2869\n",
            "Epoch 53/220\n",
            "32/32 [==============================] - 0s 3ms/step - loss: 0.0384 - mae: 0.1452 - val_loss: 0.1330 - val_mae: 0.2674\n",
            "Epoch 54/220\n",
            "32/32 [==============================] - 0s 3ms/step - loss: 0.0308 - mae: 0.1313 - val_loss: 0.1840 - val_mae: 0.3181\n",
            "Epoch 55/220\n",
            "32/32 [==============================] - 0s 3ms/step - loss: 0.0384 - mae: 0.1440 - val_loss: 0.1281 - val_mae: 0.2616\n",
            "Epoch 56/220\n",
            "32/32 [==============================] - 0s 3ms/step - loss: 0.0309 - mae: 0.1280 - val_loss: 0.1674 - val_mae: 0.3131\n",
            "Epoch 57/220\n",
            "32/32 [==============================] - 0s 3ms/step - loss: 0.0358 - mae: 0.1412 - val_loss: 0.1418 - val_mae: 0.2737\n",
            "Epoch 58/220\n",
            "32/32 [==============================] - 0s 3ms/step - loss: 0.0360 - mae: 0.1385 - val_loss: 0.1283 - val_mae: 0.2616\n",
            "Epoch 59/220\n",
            "32/32 [==============================] - 0s 3ms/step - loss: 0.0369 - mae: 0.1344 - val_loss: 0.1299 - val_mae: 0.2663\n",
            "Epoch 60/220\n",
            "32/32 [==============================] - 0s 3ms/step - loss: 0.0306 - mae: 0.1270 - val_loss: 0.1460 - val_mae: 0.2860\n",
            "Epoch 61/220\n",
            "32/32 [==============================] - 0s 3ms/step - loss: 0.0341 - mae: 0.1335 - val_loss: 0.1261 - val_mae: 0.2668\n",
            "Epoch 62/220\n",
            "32/32 [==============================] - 0s 3ms/step - loss: 0.0296 - mae: 0.1262 - val_loss: 0.1325 - val_mae: 0.2657\n",
            "Epoch 63/220\n",
            "32/32 [==============================] - 0s 3ms/step - loss: 0.0306 - mae: 0.1268 - val_loss: 0.1207 - val_mae: 0.2642\n",
            "Epoch 64/220\n",
            "32/32 [==============================] - 0s 3ms/step - loss: 0.0350 - mae: 0.1338 - val_loss: 0.1352 - val_mae: 0.2730\n",
            "Epoch 65/220\n",
            "32/32 [==============================] - 0s 3ms/step - loss: 0.0381 - mae: 0.1373 - val_loss: 0.1218 - val_mae: 0.2595\n",
            "Epoch 66/220\n",
            "32/32 [==============================] - 0s 3ms/step - loss: 0.0281 - mae: 0.1191 - val_loss: 0.1341 - val_mae: 0.2698\n",
            "Epoch 67/220\n",
            "32/32 [==============================] - 0s 3ms/step - loss: 0.0350 - mae: 0.1334 - val_loss: 0.1355 - val_mae: 0.2808\n",
            "Epoch 68/220\n",
            "32/32 [==============================] - 0s 3ms/step - loss: 0.0360 - mae: 0.1400 - val_loss: 0.1349 - val_mae: 0.2830\n",
            "Epoch 69/220\n",
            "32/32 [==============================] - 0s 3ms/step - loss: 0.0379 - mae: 0.1342 - val_loss: 0.1314 - val_mae: 0.2674\n",
            "Epoch 70/220\n",
            "32/32 [==============================] - 0s 3ms/step - loss: 0.0224 - mae: 0.1121 - val_loss: 0.1778 - val_mae: 0.3075\n",
            "Epoch 71/220\n",
            "32/32 [==============================] - 0s 4ms/step - loss: 0.0368 - mae: 0.1375 - val_loss: 0.1473 - val_mae: 0.2868\n",
            "Epoch 72/220\n",
            "32/32 [==============================] - 0s 3ms/step - loss: 0.0362 - mae: 0.1351 - val_loss: 0.1301 - val_mae: 0.2602\n",
            "Epoch 73/220\n",
            "32/32 [==============================] - 0s 3ms/step - loss: 0.0367 - mae: 0.1279 - val_loss: 0.1327 - val_mae: 0.2731\n",
            "Epoch 74/220\n",
            "32/32 [==============================] - 0s 3ms/step - loss: 0.0360 - mae: 0.1340 - val_loss: 0.1383 - val_mae: 0.2873\n",
            "Epoch 75/220\n",
            "32/32 [==============================] - 0s 3ms/step - loss: 0.0277 - mae: 0.1187 - val_loss: 0.1358 - val_mae: 0.2822\n",
            "Epoch 76/220\n",
            "32/32 [==============================] - 0s 3ms/step - loss: 0.0330 - mae: 0.1261 - val_loss: 0.1360 - val_mae: 0.2747\n",
            "Epoch 77/220\n",
            "32/32 [==============================] - 0s 3ms/step - loss: 0.0318 - mae: 0.1274 - val_loss: 0.1348 - val_mae: 0.2770\n",
            "Epoch 78/220\n",
            "32/32 [==============================] - 0s 3ms/step - loss: 0.0314 - mae: 0.1253 - val_loss: 0.1322 - val_mae: 0.2617\n",
            "Epoch 79/220\n",
            "32/32 [==============================] - 0s 3ms/step - loss: 0.0327 - mae: 0.1277 - val_loss: 0.1576 - val_mae: 0.2927\n",
            "Epoch 80/220\n",
            "32/32 [==============================] - 0s 3ms/step - loss: 0.0290 - mae: 0.1298 - val_loss: 0.1304 - val_mae: 0.2622\n",
            "Epoch 81/220\n",
            "32/32 [==============================] - 0s 3ms/step - loss: 0.0353 - mae: 0.1333 - val_loss: 0.1305 - val_mae: 0.2646\n",
            "Epoch 82/220\n",
            "32/32 [==============================] - 0s 4ms/step - loss: 0.0337 - mae: 0.1259 - val_loss: 0.1429 - val_mae: 0.2729\n",
            "Epoch 83/220\n",
            "32/32 [==============================] - 0s 3ms/step - loss: 0.0290 - mae: 0.1201 - val_loss: 0.1402 - val_mae: 0.2793\n",
            "Epoch 84/220\n",
            "32/32 [==============================] - 0s 3ms/step - loss: 0.0326 - mae: 0.1263 - val_loss: 0.1410 - val_mae: 0.2750\n",
            "Epoch 85/220\n",
            "32/32 [==============================] - 0s 4ms/step - loss: 0.0387 - mae: 0.1428 - val_loss: 0.1294 - val_mae: 0.2534\n",
            "Epoch 86/220\n",
            "32/32 [==============================] - 0s 4ms/step - loss: 0.0307 - mae: 0.1252 - val_loss: 0.1489 - val_mae: 0.2797\n",
            "Epoch 87/220\n",
            "32/32 [==============================] - 0s 3ms/step - loss: 0.0305 - mae: 0.1281 - val_loss: 0.1231 - val_mae: 0.2592\n",
            "Epoch 88/220\n",
            "32/32 [==============================] - 0s 3ms/step - loss: 0.0336 - mae: 0.1159 - val_loss: 0.1251 - val_mae: 0.2688\n",
            "Epoch 89/220\n",
            "32/32 [==============================] - 0s 3ms/step - loss: 0.0320 - mae: 0.1302 - val_loss: 0.1255 - val_mae: 0.2671\n",
            "Epoch 90/220\n",
            "32/32 [==============================] - 0s 3ms/step - loss: 0.0257 - mae: 0.1143 - val_loss: 0.1379 - val_mae: 0.2764\n",
            "Epoch 91/220\n",
            "32/32 [==============================] - 0s 3ms/step - loss: 0.0334 - mae: 0.1264 - val_loss: 0.1271 - val_mae: 0.2675\n",
            "Epoch 92/220\n",
            "32/32 [==============================] - 0s 3ms/step - loss: 0.0218 - mae: 0.1062 - val_loss: 0.1413 - val_mae: 0.2724\n",
            "Epoch 93/220\n",
            "32/32 [==============================] - 0s 3ms/step - loss: 0.0325 - mae: 0.1214 - val_loss: 0.1265 - val_mae: 0.2548\n",
            "Epoch 94/220\n",
            "32/32 [==============================] - 0s 3ms/step - loss: 0.0238 - mae: 0.1085 - val_loss: 0.1281 - val_mae: 0.2648\n",
            "Epoch 95/220\n",
            "32/32 [==============================] - 0s 4ms/step - loss: 0.0251 - mae: 0.1087 - val_loss: 0.1580 - val_mae: 0.2953\n",
            "Epoch 96/220\n",
            "32/32 [==============================] - 0s 3ms/step - loss: 0.0254 - mae: 0.1129 - val_loss: 0.1279 - val_mae: 0.2646\n",
            "Epoch 97/220\n",
            "32/32 [==============================] - 0s 3ms/step - loss: 0.0252 - mae: 0.1165 - val_loss: 0.1271 - val_mae: 0.2673\n",
            "Epoch 98/220\n",
            "32/32 [==============================] - 0s 3ms/step - loss: 0.0239 - mae: 0.1085 - val_loss: 0.1265 - val_mae: 0.2553\n",
            "Epoch 99/220\n",
            "32/32 [==============================] - 0s 3ms/step - loss: 0.0298 - mae: 0.1232 - val_loss: 0.1230 - val_mae: 0.2644\n",
            "Epoch 100/220\n",
            "32/32 [==============================] - 0s 3ms/step - loss: 0.0242 - mae: 0.1075 - val_loss: 0.1412 - val_mae: 0.2788\n",
            "Epoch 101/220\n",
            "32/32 [==============================] - 0s 4ms/step - loss: 0.0241 - mae: 0.1111 - val_loss: 0.1351 - val_mae: 0.2766\n",
            "Epoch 102/220\n",
            "32/32 [==============================] - 0s 3ms/step - loss: 0.0283 - mae: 0.1203 - val_loss: 0.1498 - val_mae: 0.2770\n",
            "Epoch 103/220\n",
            "32/32 [==============================] - 0s 3ms/step - loss: 0.0269 - mae: 0.1222 - val_loss: 0.1266 - val_mae: 0.2576\n",
            "Epoch 104/220\n",
            "32/32 [==============================] - 0s 4ms/step - loss: 0.0261 - mae: 0.1137 - val_loss: 0.1235 - val_mae: 0.2574\n",
            "Epoch 105/220\n",
            "32/32 [==============================] - 0s 3ms/step - loss: 0.0191 - mae: 0.1007 - val_loss: 0.1233 - val_mae: 0.2558\n",
            "Epoch 106/220\n",
            "32/32 [==============================] - 0s 3ms/step - loss: 0.0218 - mae: 0.1028 - val_loss: 0.1320 - val_mae: 0.2605\n",
            "Epoch 107/220\n",
            "32/32 [==============================] - 0s 3ms/step - loss: 0.0252 - mae: 0.1118 - val_loss: 0.1315 - val_mae: 0.2783\n",
            "Epoch 108/220\n",
            "32/32 [==============================] - 0s 3ms/step - loss: 0.0253 - mae: 0.1125 - val_loss: 0.1405 - val_mae: 0.2753\n",
            "Epoch 109/220\n",
            "32/32 [==============================] - 0s 3ms/step - loss: 0.0336 - mae: 0.1185 - val_loss: 0.1260 - val_mae: 0.2642\n",
            "Epoch 110/220\n",
            "32/32 [==============================] - 0s 3ms/step - loss: 0.0253 - mae: 0.1125 - val_loss: 0.1280 - val_mae: 0.2698\n",
            "Epoch 111/220\n",
            "32/32 [==============================] - 0s 3ms/step - loss: 0.0321 - mae: 0.1160 - val_loss: 0.1329 - val_mae: 0.2684\n",
            "Epoch 112/220\n",
            "32/32 [==============================] - 0s 3ms/step - loss: 0.0259 - mae: 0.1110 - val_loss: 0.1331 - val_mae: 0.2742\n",
            "Epoch 113/220\n",
            "32/32 [==============================] - 0s 3ms/step - loss: 0.0343 - mae: 0.1181 - val_loss: 0.1548 - val_mae: 0.2990\n",
            "Epoch 114/220\n",
            "32/32 [==============================] - 0s 3ms/step - loss: 0.0218 - mae: 0.1044 - val_loss: 0.1296 - val_mae: 0.2634\n",
            "Epoch 115/220\n",
            "32/32 [==============================] - 0s 3ms/step - loss: 0.0216 - mae: 0.1068 - val_loss: 0.1393 - val_mae: 0.2691\n",
            "Epoch 116/220\n",
            "32/32 [==============================] - 0s 3ms/step - loss: 0.0241 - mae: 0.1081 - val_loss: 0.1195 - val_mae: 0.2606\n",
            "Epoch 117/220\n",
            "32/32 [==============================] - 0s 3ms/step - loss: 0.0266 - mae: 0.1126 - val_loss: 0.1266 - val_mae: 0.2656\n",
            "Epoch 118/220\n",
            "32/32 [==============================] - 0s 3ms/step - loss: 0.0236 - mae: 0.1094 - val_loss: 0.1364 - val_mae: 0.2667\n",
            "Epoch 119/220\n",
            "32/32 [==============================] - 0s 3ms/step - loss: 0.0247 - mae: 0.1060 - val_loss: 0.1329 - val_mae: 0.2646\n",
            "Epoch 120/220\n",
            "32/32 [==============================] - 0s 3ms/step - loss: 0.0264 - mae: 0.1122 - val_loss: 0.1257 - val_mae: 0.2633\n",
            "Epoch 121/220\n",
            "32/32 [==============================] - 0s 3ms/step - loss: 0.0232 - mae: 0.1024 - val_loss: 0.1207 - val_mae: 0.2542\n",
            "Epoch 122/220\n",
            "32/32 [==============================] - 0s 3ms/step - loss: 0.0255 - mae: 0.1125 - val_loss: 0.1346 - val_mae: 0.2668\n",
            "Epoch 123/220\n",
            "32/32 [==============================] - 0s 3ms/step - loss: 0.0205 - mae: 0.1075 - val_loss: 0.1237 - val_mae: 0.2692\n",
            "Epoch 124/220\n",
            "32/32 [==============================] - 0s 3ms/step - loss: 0.0232 - mae: 0.1087 - val_loss: 0.1250 - val_mae: 0.2567\n",
            "Epoch 125/220\n",
            "32/32 [==============================] - 0s 3ms/step - loss: 0.0200 - mae: 0.0993 - val_loss: 0.1287 - val_mae: 0.2627\n",
            "Epoch 126/220\n",
            "32/32 [==============================] - 0s 3ms/step - loss: 0.0200 - mae: 0.0969 - val_loss: 0.1302 - val_mae: 0.2675\n",
            "Epoch 127/220\n",
            "32/32 [==============================] - 0s 3ms/step - loss: 0.0342 - mae: 0.1154 - val_loss: 0.1284 - val_mae: 0.2644\n",
            "Epoch 128/220\n",
            "32/32 [==============================] - 0s 4ms/step - loss: 0.0232 - mae: 0.1069 - val_loss: 0.1199 - val_mae: 0.2518\n",
            "Epoch 129/220\n",
            "32/32 [==============================] - 0s 3ms/step - loss: 0.0211 - mae: 0.0937 - val_loss: 0.1198 - val_mae: 0.2514\n",
            "Epoch 130/220\n",
            "32/32 [==============================] - 0s 3ms/step - loss: 0.0198 - mae: 0.0951 - val_loss: 0.1228 - val_mae: 0.2600\n",
            "Epoch 131/220\n",
            "32/32 [==============================] - 0s 3ms/step - loss: 0.0284 - mae: 0.1193 - val_loss: 0.1287 - val_mae: 0.2581\n",
            "Epoch 132/220\n",
            "32/32 [==============================] - 0s 3ms/step - loss: 0.0214 - mae: 0.1045 - val_loss: 0.1313 - val_mae: 0.2623\n",
            "Epoch 133/220\n",
            "32/32 [==============================] - 0s 3ms/step - loss: 0.0252 - mae: 0.1061 - val_loss: 0.1344 - val_mae: 0.2715\n",
            "Epoch 134/220\n",
            "32/32 [==============================] - 0s 3ms/step - loss: 0.0238 - mae: 0.1094 - val_loss: 0.1346 - val_mae: 0.2807\n",
            "Epoch 135/220\n",
            "32/32 [==============================] - 0s 3ms/step - loss: 0.0219 - mae: 0.1052 - val_loss: 0.1285 - val_mae: 0.2548\n",
            "Epoch 136/220\n",
            "32/32 [==============================] - 0s 3ms/step - loss: 0.0248 - mae: 0.1046 - val_loss: 0.1271 - val_mae: 0.2610\n",
            "Epoch 137/220\n",
            "32/32 [==============================] - 0s 3ms/step - loss: 0.0185 - mae: 0.0928 - val_loss: 0.1401 - val_mae: 0.2729\n",
            "Epoch 138/220\n",
            "32/32 [==============================] - 0s 3ms/step - loss: 0.0250 - mae: 0.1093 - val_loss: 0.1292 - val_mae: 0.2664\n",
            "Epoch 139/220\n",
            "32/32 [==============================] - 0s 3ms/step - loss: 0.0288 - mae: 0.1161 - val_loss: 0.1224 - val_mae: 0.2611\n",
            "Epoch 140/220\n",
            "32/32 [==============================] - 0s 3ms/step - loss: 0.0228 - mae: 0.0962 - val_loss: 0.1322 - val_mae: 0.2595\n",
            "Epoch 141/220\n",
            "32/32 [==============================] - 0s 3ms/step - loss: 0.0251 - mae: 0.1039 - val_loss: 0.1212 - val_mae: 0.2568\n",
            "Epoch 142/220\n",
            "32/32 [==============================] - 0s 3ms/step - loss: 0.0213 - mae: 0.0991 - val_loss: 0.1376 - val_mae: 0.2678\n",
            "Epoch 143/220\n",
            "32/32 [==============================] - 0s 3ms/step - loss: 0.0226 - mae: 0.1035 - val_loss: 0.1427 - val_mae: 0.2780\n",
            "Epoch 144/220\n",
            "32/32 [==============================] - 0s 3ms/step - loss: 0.0212 - mae: 0.1016 - val_loss: 0.1411 - val_mae: 0.2752\n",
            "Epoch 145/220\n",
            "32/32 [==============================] - 0s 3ms/step - loss: 0.0193 - mae: 0.0978 - val_loss: 0.1230 - val_mae: 0.2539\n",
            "Epoch 146/220\n",
            "32/32 [==============================] - 0s 3ms/step - loss: 0.0193 - mae: 0.0947 - val_loss: 0.1347 - val_mae: 0.2723\n",
            "Epoch 147/220\n",
            "32/32 [==============================] - 0s 3ms/step - loss: 0.0277 - mae: 0.1094 - val_loss: 0.1302 - val_mae: 0.2640\n",
            "Epoch 148/220\n",
            "32/32 [==============================] - 0s 3ms/step - loss: 0.0209 - mae: 0.1006 - val_loss: 0.1278 - val_mae: 0.2662\n",
            "Epoch 149/220\n",
            "32/32 [==============================] - 0s 3ms/step - loss: 0.0202 - mae: 0.0984 - val_loss: 0.1220 - val_mae: 0.2554\n",
            "Epoch 150/220\n",
            "32/32 [==============================] - 0s 3ms/step - loss: 0.0226 - mae: 0.1015 - val_loss: 0.1248 - val_mae: 0.2523\n",
            "Epoch 151/220\n",
            "32/32 [==============================] - 0s 3ms/step - loss: 0.0173 - mae: 0.0918 - val_loss: 0.1273 - val_mae: 0.2616\n",
            "Epoch 152/220\n",
            "32/32 [==============================] - 0s 3ms/step - loss: 0.0229 - mae: 0.1069 - val_loss: 0.1301 - val_mae: 0.2627\n",
            "Epoch 153/220\n",
            "32/32 [==============================] - 0s 3ms/step - loss: 0.0274 - mae: 0.1108 - val_loss: 0.1242 - val_mae: 0.2575\n",
            "Epoch 154/220\n",
            "32/32 [==============================] - 0s 4ms/step - loss: 0.0177 - mae: 0.0876 - val_loss: 0.1265 - val_mae: 0.2599\n",
            "Epoch 155/220\n",
            "32/32 [==============================] - 0s 3ms/step - loss: 0.0176 - mae: 0.0866 - val_loss: 0.1189 - val_mae: 0.2563\n",
            "Epoch 156/220\n",
            "32/32 [==============================] - 0s 3ms/step - loss: 0.0194 - mae: 0.0963 - val_loss: 0.1427 - val_mae: 0.2860\n",
            "Epoch 157/220\n",
            "32/32 [==============================] - 0s 3ms/step - loss: 0.0209 - mae: 0.0998 - val_loss: 0.1263 - val_mae: 0.2554\n",
            "Epoch 158/220\n",
            "32/32 [==============================] - 0s 3ms/step - loss: 0.0182 - mae: 0.0949 - val_loss: 0.1386 - val_mae: 0.2657\n",
            "Epoch 159/220\n",
            "32/32 [==============================] - 0s 3ms/step - loss: 0.0251 - mae: 0.1012 - val_loss: 0.1177 - val_mae: 0.2458\n",
            "Epoch 160/220\n",
            "32/32 [==============================] - 0s 3ms/step - loss: 0.0204 - mae: 0.0964 - val_loss: 0.1435 - val_mae: 0.2781\n",
            "Epoch 161/220\n",
            "32/32 [==============================] - 0s 3ms/step - loss: 0.0273 - mae: 0.1022 - val_loss: 0.1284 - val_mae: 0.2639\n",
            "Epoch 162/220\n",
            "32/32 [==============================] - 0s 3ms/step - loss: 0.0194 - mae: 0.0952 - val_loss: 0.1216 - val_mae: 0.2550\n",
            "Epoch 163/220\n",
            "32/32 [==============================] - 0s 3ms/step - loss: 0.0213 - mae: 0.0981 - val_loss: 0.1237 - val_mae: 0.2593\n",
            "Epoch 164/220\n",
            "32/32 [==============================] - 0s 4ms/step - loss: 0.0224 - mae: 0.1001 - val_loss: 0.1259 - val_mae: 0.2601\n",
            "Epoch 165/220\n",
            "32/32 [==============================] - 0s 3ms/step - loss: 0.0226 - mae: 0.0963 - val_loss: 0.1316 - val_mae: 0.2616\n",
            "Epoch 166/220\n",
            "32/32 [==============================] - 0s 3ms/step - loss: 0.0199 - mae: 0.0936 - val_loss: 0.1384 - val_mae: 0.2711\n",
            "Epoch 167/220\n",
            "32/32 [==============================] - 0s 3ms/step - loss: 0.0214 - mae: 0.0937 - val_loss: 0.1325 - val_mae: 0.2613\n",
            "Epoch 168/220\n",
            "32/32 [==============================] - 0s 4ms/step - loss: 0.0239 - mae: 0.1044 - val_loss: 0.1252 - val_mae: 0.2526\n",
            "Epoch 169/220\n",
            "32/32 [==============================] - 0s 3ms/step - loss: 0.0157 - mae: 0.0880 - val_loss: 0.1253 - val_mae: 0.2539\n",
            "Epoch 170/220\n",
            "32/32 [==============================] - 0s 3ms/step - loss: 0.0169 - mae: 0.0923 - val_loss: 0.1151 - val_mae: 0.2482\n",
            "Epoch 171/220\n",
            "32/32 [==============================] - 0s 3ms/step - loss: 0.0187 - mae: 0.0960 - val_loss: 0.1180 - val_mae: 0.2449\n",
            "Epoch 172/220\n",
            "32/32 [==============================] - 0s 3ms/step - loss: 0.0218 - mae: 0.1002 - val_loss: 0.1244 - val_mae: 0.2521\n",
            "Epoch 173/220\n",
            "32/32 [==============================] - 0s 3ms/step - loss: 0.0214 - mae: 0.0959 - val_loss: 0.1379 - val_mae: 0.2696\n",
            "Epoch 174/220\n",
            "32/32 [==============================] - 0s 3ms/step - loss: 0.0173 - mae: 0.0908 - val_loss: 0.1224 - val_mae: 0.2505\n",
            "Epoch 175/220\n",
            "32/32 [==============================] - 0s 3ms/step - loss: 0.0167 - mae: 0.0840 - val_loss: 0.1291 - val_mae: 0.2664\n",
            "Epoch 176/220\n",
            "32/32 [==============================] - 0s 3ms/step - loss: 0.0163 - mae: 0.0903 - val_loss: 0.1276 - val_mae: 0.2574\n",
            "Epoch 177/220\n",
            "32/32 [==============================] - 0s 3ms/step - loss: 0.0254 - mae: 0.0959 - val_loss: 0.1290 - val_mae: 0.2594\n",
            "Epoch 178/220\n",
            "32/32 [==============================] - 0s 3ms/step - loss: 0.0179 - mae: 0.0918 - val_loss: 0.1182 - val_mae: 0.2500\n",
            "Epoch 179/220\n",
            "32/32 [==============================] - 0s 3ms/step - loss: 0.0183 - mae: 0.0944 - val_loss: 0.1393 - val_mae: 0.2626\n",
            "Epoch 180/220\n",
            "32/32 [==============================] - 0s 3ms/step - loss: 0.0190 - mae: 0.0982 - val_loss: 0.1236 - val_mae: 0.2567\n",
            "Epoch 181/220\n",
            "32/32 [==============================] - 0s 3ms/step - loss: 0.0199 - mae: 0.0946 - val_loss: 0.1276 - val_mae: 0.2612\n",
            "Epoch 182/220\n",
            "32/32 [==============================] - 0s 4ms/step - loss: 0.0246 - mae: 0.1047 - val_loss: 0.1285 - val_mae: 0.2593\n",
            "Epoch 183/220\n",
            "32/32 [==============================] - 0s 3ms/step - loss: 0.0210 - mae: 0.0951 - val_loss: 0.1198 - val_mae: 0.2522\n",
            "Epoch 184/220\n",
            "32/32 [==============================] - 0s 3ms/step - loss: 0.0161 - mae: 0.0869 - val_loss: 0.1330 - val_mae: 0.2597\n",
            "Epoch 185/220\n",
            "32/32 [==============================] - 0s 3ms/step - loss: 0.0214 - mae: 0.1020 - val_loss: 0.1229 - val_mae: 0.2535\n",
            "Epoch 186/220\n",
            "32/32 [==============================] - 0s 3ms/step - loss: 0.0184 - mae: 0.0929 - val_loss: 0.1222 - val_mae: 0.2522\n",
            "Epoch 187/220\n",
            "32/32 [==============================] - 0s 3ms/step - loss: 0.0167 - mae: 0.0861 - val_loss: 0.1273 - val_mae: 0.2558\n",
            "Epoch 188/220\n",
            "32/32 [==============================] - 0s 3ms/step - loss: 0.0234 - mae: 0.0932 - val_loss: 0.1168 - val_mae: 0.2438\n",
            "Epoch 189/220\n",
            "32/32 [==============================] - 0s 3ms/step - loss: 0.0197 - mae: 0.0947 - val_loss: 0.1258 - val_mae: 0.2569\n",
            "Epoch 190/220\n",
            "32/32 [==============================] - 0s 3ms/step - loss: 0.0179 - mae: 0.0936 - val_loss: 0.1317 - val_mae: 0.2562\n",
            "Epoch 191/220\n",
            "32/32 [==============================] - 0s 3ms/step - loss: 0.0209 - mae: 0.0974 - val_loss: 0.1405 - val_mae: 0.2646\n",
            "Epoch 192/220\n",
            "32/32 [==============================] - 0s 3ms/step - loss: 0.0266 - mae: 0.1028 - val_loss: 0.1239 - val_mae: 0.2608\n",
            "Epoch 193/220\n",
            "32/32 [==============================] - 0s 3ms/step - loss: 0.0169 - mae: 0.0870 - val_loss: 0.1201 - val_mae: 0.2488\n",
            "Epoch 194/220\n",
            "32/32 [==============================] - 0s 3ms/step - loss: 0.0175 - mae: 0.0909 - val_loss: 0.1199 - val_mae: 0.2521\n",
            "Epoch 195/220\n",
            "32/32 [==============================] - 0s 3ms/step - loss: 0.0159 - mae: 0.0810 - val_loss: 0.1238 - val_mae: 0.2557\n",
            "Epoch 196/220\n",
            "32/32 [==============================] - 0s 3ms/step - loss: 0.0184 - mae: 0.0941 - val_loss: 0.1349 - val_mae: 0.2684\n",
            "Epoch 197/220\n",
            "32/32 [==============================] - 0s 3ms/step - loss: 0.0182 - mae: 0.0919 - val_loss: 0.1309 - val_mae: 0.2595\n",
            "Epoch 198/220\n",
            "32/32 [==============================] - 0s 3ms/step - loss: 0.0242 - mae: 0.0997 - val_loss: 0.1189 - val_mae: 0.2475\n",
            "Epoch 199/220\n",
            "32/32 [==============================] - 0s 3ms/step - loss: 0.0276 - mae: 0.1029 - val_loss: 0.1202 - val_mae: 0.2500\n",
            "Epoch 200/220\n",
            "32/32 [==============================] - 0s 3ms/step - loss: 0.0129 - mae: 0.0804 - val_loss: 0.1241 - val_mae: 0.2530\n",
            "Epoch 201/220\n",
            "32/32 [==============================] - 0s 3ms/step - loss: 0.0181 - mae: 0.0873 - val_loss: 0.1215 - val_mae: 0.2518\n",
            "Epoch 202/220\n",
            "32/32 [==============================] - 0s 4ms/step - loss: 0.0198 - mae: 0.0939 - val_loss: 0.1322 - val_mae: 0.2661\n",
            "Epoch 203/220\n",
            "32/32 [==============================] - 0s 3ms/step - loss: 0.0206 - mae: 0.0923 - val_loss: 0.1375 - val_mae: 0.2647\n",
            "Epoch 204/220\n",
            "32/32 [==============================] - 0s 3ms/step - loss: 0.0218 - mae: 0.0946 - val_loss: 0.1357 - val_mae: 0.2686\n",
            "Epoch 205/220\n",
            "32/32 [==============================] - 0s 3ms/step - loss: 0.0185 - mae: 0.0972 - val_loss: 0.1355 - val_mae: 0.2653\n",
            "Epoch 206/220\n",
            "32/32 [==============================] - 0s 4ms/step - loss: 0.0215 - mae: 0.0845 - val_loss: 0.1219 - val_mae: 0.2510\n",
            "Epoch 207/220\n",
            "32/32 [==============================] - 0s 3ms/step - loss: 0.0197 - mae: 0.0933 - val_loss: 0.1178 - val_mae: 0.2440\n",
            "Epoch 208/220\n",
            "32/32 [==============================] - 0s 3ms/step - loss: 0.0133 - mae: 0.0724 - val_loss: 0.1188 - val_mae: 0.2514\n",
            "Epoch 209/220\n",
            "32/32 [==============================] - 0s 3ms/step - loss: 0.0170 - mae: 0.0886 - val_loss: 0.1369 - val_mae: 0.2605\n",
            "Epoch 210/220\n",
            "32/32 [==============================] - 0s 4ms/step - loss: 0.0163 - mae: 0.0895 - val_loss: 0.1192 - val_mae: 0.2494\n",
            "Epoch 211/220\n",
            "32/32 [==============================] - 0s 3ms/step - loss: 0.0183 - mae: 0.0861 - val_loss: 0.1263 - val_mae: 0.2530\n",
            "Epoch 212/220\n",
            "32/32 [==============================] - 0s 3ms/step - loss: 0.0189 - mae: 0.0882 - val_loss: 0.1248 - val_mae: 0.2507\n",
            "Epoch 213/220\n",
            "32/32 [==============================] - 0s 4ms/step - loss: 0.0230 - mae: 0.1001 - val_loss: 0.1362 - val_mae: 0.2644\n",
            "Epoch 214/220\n",
            "32/32 [==============================] - 0s 3ms/step - loss: 0.0152 - mae: 0.0882 - val_loss: 0.1249 - val_mae: 0.2506\n",
            "Epoch 215/220\n",
            "32/32 [==============================] - 0s 3ms/step - loss: 0.0171 - mae: 0.0853 - val_loss: 0.1413 - val_mae: 0.2797\n",
            "Epoch 216/220\n",
            "32/32 [==============================] - 0s 3ms/step - loss: 0.0222 - mae: 0.0968 - val_loss: 0.1465 - val_mae: 0.2863\n",
            "Epoch 217/220\n",
            "32/32 [==============================] - 0s 3ms/step - loss: 0.0200 - mae: 0.0993 - val_loss: 0.1228 - val_mae: 0.2508\n",
            "Epoch 218/220\n",
            "32/32 [==============================] - 0s 3ms/step - loss: 0.0196 - mae: 0.0945 - val_loss: 0.1211 - val_mae: 0.2477\n",
            "Epoch 219/220\n",
            "32/32 [==============================] - 0s 3ms/step - loss: 0.0150 - mae: 0.0843 - val_loss: 0.1197 - val_mae: 0.2411\n",
            "Epoch 220/220\n",
            "32/32 [==============================] - 0s 3ms/step - loss: 0.0244 - mae: 0.1024 - val_loss: 0.1247 - val_mae: 0.2516\n"
          ],
          "name": "stdout"
        }
      ]
    },
    {
      "cell_type": "code",
      "metadata": {
        "colab": {
          "base_uri": "https://localhost:8080/"
        },
        "id": "4MQw0kaw7PMZ",
        "outputId": "4bdf4ece-6fd3-4f07-b7af-634ebd878bd7"
      },
      "source": [
        "history.history.keys()"
      ],
      "execution_count": 121,
      "outputs": [
        {
          "output_type": "execute_result",
          "data": {
            "text/plain": [
              "dict_keys(['loss', 'mae', 'val_loss', 'val_mae'])"
            ]
          },
          "metadata": {
            "tags": []
          },
          "execution_count": 121
        }
      ]
    },
    {
      "cell_type": "code",
      "metadata": {
        "colab": {
          "base_uri": "https://localhost:8080/"
        },
        "id": "Dke-NeOQtJ7Z",
        "outputId": "e01f2ba4-0fac-40c8-e003-9cdaa7ee8404"
      },
      "source": [
        "# Evaluation\n",
        "loss,mae=model.evaluate(X_test,Y_test)"
      ],
      "execution_count": 122,
      "outputs": [
        {
          "output_type": "stream",
          "text": [
            "10/10 [==============================] - 0s 2ms/step - loss: 0.1331 - mae: 0.2339\n"
          ],
          "name": "stdout"
        }
      ]
    },
    {
      "cell_type": "code",
      "metadata": {
        "id": "CtycpTWetRiZ"
      },
      "source": [
        "val_mae = history.history['val_mae']\n",
        "val_loss = history.history['val_loss']"
      ],
      "execution_count": 123,
      "outputs": []
    },
    {
      "cell_type": "code",
      "metadata": {
        "colab": {
          "base_uri": "https://localhost:8080/",
          "height": 573
        },
        "id": "DJqAIM4J7PMb",
        "outputId": "9e65792f-4600-464b-cb02-7cbafabaf15b"
      },
      "source": [
        "import matplotlib.pyplot as plt \n",
        "history_dict = history.history\n",
        "loss_values = history_dict['loss']\n",
        "val_loss_values = history_dict['val_loss']\n",
        "epochs = range(220)\n",
        "plt.plot(epochs, loss_values, 'bo', label='Training loss')\n",
        "plt.plot(epochs, val_loss_values, 'b', label='Validation loss')\n",
        "plt.title('Training and validation loss')\n",
        "plt.xlabel('Epochs')\n",
        "plt.ylabel('Loss')\n",
        "plt.legend()\n",
        "plt.show()\n",
        "acc_values = history_dict['mae']\n",
        "val_acc_values = history_dict['val_mae']\n",
        "plt.plot(epochs, acc_values, 'bo', label='Training mae')\n",
        "plt.plot(epochs, val_acc_values, 'b', label='Validation mae')\n",
        "plt.title('Training and validation accuracy')\n",
        "plt.xlabel('Epochs')\n",
        "plt.ylabel('mae')\n",
        "plt.legend()\n",
        "plt.show()"
      ],
      "execution_count": 124,
      "outputs": [
        {
          "output_type": "display_data",
          "data": {
            "image/png": "[encoded data removed]",
            "text/plain": [
              "<Figure size 432x288 with 1 Axes>"
            ]
          },
          "metadata": {
            "tags": [],
            "needs_background": "light"
          }
        },
        {
          "output_type": "display_data",
          "data": {
            "image/png": "[encoded data removed]",
            "text/plain": [
              "<Figure size 432x288 with 1 Axes>"
            ]
          },
          "metadata": {
            "tags": [],
            "needs_background": "light"
          }
        }
      ]
    },
    {
      "cell_type": "code",
      "metadata": {
        "id": "AiZJuEX1tXIa"
      },
      "source": [
        "y_predict = model.predict(X_test)"
      ],
      "execution_count": 125,
      "outputs": []
    },
    {
      "cell_type": "code",
      "metadata": {
        "id": "GqrfaPU77PMf"
      },
      "source": [
        "def denormalise(x):\n",
        "    return (x * Y_std) + Y_mean\n",
        "    "
      ],
      "execution_count": 126,
      "outputs": []
    },
    {
      "cell_type": "code",
      "metadata": {
        "id": "nFOa_t3Y7PMf"
      },
      "source": [
        "y_predict = denormalise(y_predict)"
      ],
      "execution_count": 127,
      "outputs": []
    },
    {
      "cell_type": "code",
      "metadata": {
        "id": "pDiYATWE7PMg"
      },
      "source": [
        "y_true = denormalise(Y_test)"
      ],
      "execution_count": 128,
      "outputs": []
    },
    {
      "cell_type": "code",
      "metadata": {
        "id": "bxV8rXqb7PMh"
      },
      "source": [
        "y_predict = y_predict.flatten()"
      ],
      "execution_count": 129,
      "outputs": []
    },
    {
      "cell_type": "code",
      "metadata": {
        "colab": {
          "base_uri": "https://localhost:8080/"
        },
        "id": "wDTPEZed7PMi",
        "outputId": "65bf50d3-49aa-48a3-9809-402283f1e78e"
      },
      "source": [
        "y_predict.shape"
      ],
      "execution_count": 130,
      "outputs": [
        {
          "output_type": "execute_result",
          "data": {
            "text/plain": [
              "(309,)"
            ]
          },
          "metadata": {
            "tags": []
          },
          "execution_count": 130
        }
      ]
    },
    {
      "cell_type": "code",
      "metadata": {
        "colab": {
          "base_uri": "https://localhost:8080/"
        },
        "id": "RBmpzdJE7PMi",
        "outputId": "d1ffa92c-59ce-4e9a-a08f-3be5d34c1b9e"
      },
      "source": [
        "y_true.shape"
      ],
      "execution_count": 131,
      "outputs": [
        {
          "output_type": "execute_result",
          "data": {
            "text/plain": [
              "(309,)"
            ]
          },
          "metadata": {
            "tags": []
          },
          "execution_count": 131
        }
      ]
    },
    {
      "cell_type": "code",
      "metadata": {
        "colab": {
          "base_uri": "https://localhost:8080/",
          "height": 286
        },
        "id": "UHRyCT6v7PMj",
        "outputId": "68a6b29b-e1e0-4723-c475-3e49542b17d6"
      },
      "source": [
        "import numpy as np\n",
        "import matplotlib.pyplot as plt\n",
        "coef = np.polyfit(y_true,y_predict,1)\n",
        "poly1d_fn = np.poly1d(coef) \n",
        "# poly1d_fn is a function which takes in x and returns an estimate for y\n",
        "plt.plot(y_true,y_predict, 'yo', y_true, poly1d_fn(y_true), '--k')\n",
        "plt.xlim(0, 100)\n",
        "plt.ylim(0, 100)"
      ],
      "execution_count": 132,
      "outputs": [
        {
          "output_type": "execute_result",
          "data": {
            "text/plain": [
              "(0.0, 100.0)"
            ]
          },
          "metadata": {
            "tags": []
          },
          "execution_count": 132
        },
        {
          "output_type": "display_data",
          "data": {
            "image/png": "[encoded data removed]",
            "text/plain": [
              "<Figure size 432x288 with 1 Axes>"
            ]
          },
          "metadata": {
            "tags": [],
            "needs_background": "light"
          }
        }
      ]
    }
  ]
}