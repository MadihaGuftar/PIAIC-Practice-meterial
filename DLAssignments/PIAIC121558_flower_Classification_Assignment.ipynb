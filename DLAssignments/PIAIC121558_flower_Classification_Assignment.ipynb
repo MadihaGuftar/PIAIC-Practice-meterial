{
  "nbformat": 4,
  "nbformat_minor": 0,
  "metadata": {
    "accelerator": "GPU",
    "colab": {
      "name": "PIAIC121558_flower_Classification_Assignment.ipynb",
      "provenance": [],
      "collapsed_sections": []
    },
    "kernelspec": {
      "display_name": "Python 3",
      "language": "python",
      "name": "python3"
    },
    "language_info": {
      "codemirror_mode": {
        "name": "ipython",
        "version": 3
      },
      "file_extension": ".py",
      "mimetype": "text/x-python",
      "name": "python",
      "nbconvert_exporter": "python",
      "pygments_lexer": "ipython3",
      "version": "3.9.2"
    }
  },
  "cells": [
    {
      "cell_type": "markdown",
      "metadata": {
        "id": "djpUz2URIi3i"
      },
      "source": [
        "# **Flower Classification Assignment**"
      ]
    },
    {
      "cell_type": "code",
      "metadata": {
        "id": "MHeMvFpkR-Oe"
      },
      "source": [
        "import numpy as np\n",
        "import pandas as pd\n",
        "import tensorflow as tf\n",
        "from tensorflow.keras import models\n",
        "from tensorflow.keras import layers\n",
        "from tensorflow.keras.preprocessing.image import ImageDataGenerator\n",
        "from tensorflow.keras.models import Sequential\n",
        "from tensorflow.keras.layers import Dense, Flatten\n",
        "from tensorflow.keras.optimizers import RMSprop\n"
      ],
      "execution_count": 1,
      "outputs": []
    },
    {
      "cell_type": "code",
      "metadata": {
        "colab": {
          "base_uri": "https://localhost:8080/"
        },
        "id": "6zLrcI4P9HUW",
        "outputId": "8999f7b1-903a-4114-ea79-71b97397c44b"
      },
      "source": [
        "from google.colab import drive\n",
        "drive.mount('/content/drive')"
      ],
      "execution_count": 2,
      "outputs": [
        {
          "output_type": "stream",
          "text": [
            "Mounted at /content/drive\n"
          ],
          "name": "stdout"
        }
      ]
    },
    {
      "cell_type": "code",
      "metadata": {
        "colab": {
          "base_uri": "https://localhost:8080/"
        },
        "id": "gu8R1NyOv9Gv",
        "outputId": "198b62e9-020e-4d33-fde2-e7c4f18481b3"
      },
      "source": [
        "val_batch = 10\n",
        "train_batch = 32\n",
        "train_datagen = ImageDataGenerator(\n",
        "        rescale=1./255,\n",
        "        validation_split=0.30,\n",
        "        )\n",
        "train_generator = train_datagen.flow_from_directory(\n",
        "        '/content/drive/MyDrive/flowers',\n",
        "        target_size=(80, 80),\n",
        "        batch_size=train_batch,\n",
        "        class_mode='categorical',\n",
        "        subset = 'training',\n",
        "        color_mode = 'grayscale',\n",
        "        shuffle = True,\n",
        "        )\n",
        "validation_generator = train_datagen.flow_from_directory(\n",
        "        '/content/drive/MyDrive/flowers',\n",
        "        target_size=(80, 80),\n",
        "        batch_size=val_batch,\n",
        "        class_mode='categorical',\n",
        "        subset = 'validation',\n",
        "        color_mode = 'grayscale',\n",
        "        shuffle= True)\n"
      ],
      "execution_count": 3,
      "outputs": [
        {
          "output_type": "stream",
          "text": [
            "Found 3035 images belonging to 5 classes.\n",
            "Found 1298 images belonging to 5 classes.\n"
          ],
          "name": "stdout"
        }
      ]
    },
    {
      "cell_type": "code",
      "metadata": {
        "colab": {
          "base_uri": "https://localhost:8080/"
        },
        "id": "RR13ZEf7-zus",
        "outputId": "ca9aaf9f-31aa-42b0-e955-b4810457a515"
      },
      "source": [
        "train_generator.class_indices"
      ],
      "execution_count": 4,
      "outputs": [
        {
          "output_type": "execute_result",
          "data": {
            "text/plain": [
              "{'daisy': 0, 'dandelion': 1, 'rose': 2, 'sunflower': 3, 'tulip': 4}"
            ]
          },
          "metadata": {
            "tags": []
          },
          "execution_count": 4
        }
      ]
    },
    {
      "cell_type": "code",
      "metadata": {
        "colab": {
          "base_uri": "https://localhost:8080/"
        },
        "id": "LqDb5wQt9NSe",
        "outputId": "5dc8ee8e-1766-4736-fa2b-3551c2b223b7"
      },
      "source": [
        "type(train_datagen)"
      ],
      "execution_count": 5,
      "outputs": [
        {
          "output_type": "execute_result",
          "data": {
            "text/plain": [
              "tensorflow.python.keras.preprocessing.image.ImageDataGenerator"
            ]
          },
          "metadata": {
            "tags": []
          },
          "execution_count": 5
        }
      ]
    },
    {
      "cell_type": "code",
      "metadata": {
        "colab": {
          "base_uri": "https://localhost:8080/"
        },
        "id": "3A9eNN467eQP",
        "outputId": "c2766f22-e807-40b2-c558-12688f4fe956"
      },
      "source": [
        "type(train_generator)"
      ],
      "execution_count": 6,
      "outputs": [
        {
          "output_type": "execute_result",
          "data": {
            "text/plain": [
              "tensorflow.python.keras.preprocessing.image.DirectoryIterator"
            ]
          },
          "metadata": {
            "tags": []
          },
          "execution_count": 6
        }
      ]
    },
    {
      "cell_type": "code",
      "metadata": {
        "colab": {
          "base_uri": "https://localhost:8080/"
        },
        "id": "I0JAwzvh9blZ",
        "outputId": "1fe88ef5-6e51-40c2-80b6-0713a9748720"
      },
      "source": [
        "train_generator[31][1].shape"
      ],
      "execution_count": 7,
      "outputs": [
        {
          "output_type": "execute_result",
          "data": {
            "text/plain": [
              "(32, 5)"
            ]
          },
          "metadata": {
            "tags": []
          },
          "execution_count": 7
        }
      ]
    },
    {
      "cell_type": "code",
      "metadata": {
        "id": "MECEactbpYY2"
      },
      "source": [
        "from tensorflow.keras.models import Sequential\n",
        "from tensorflow.keras.layers import Dense, Dropout,Flatten\n",
        "model = Sequential()\n",
        "model.add(Flatten())\n",
        "model.add(Dense(10, activation='relu'))\n",
        "model.add(Dense(8, activation='relu'))\n",
        "model.add(Dense(5,  activation='softmax'))"
      ],
      "execution_count": 8,
      "outputs": []
    },
    {
      "cell_type": "code",
      "metadata": {
        "id": "2QFL7tA4D0Sa"
      },
      "source": [
        "model.compile(optimizer='rmsprop',\n",
        "loss='categorical_crossentropy',\n",
        "metrics=['accuracy'])"
      ],
      "execution_count": 9,
      "outputs": []
    },
    {
      "cell_type": "code",
      "metadata": {
        "colab": {
          "base_uri": "https://localhost:8080/"
        },
        "id": "mwG7_qctxUBl",
        "outputId": "78726312-be58-413f-a6b9-22f1b5dff20e"
      },
      "source": [
        "with tf.device('/device:GPU:0'):\n",
        "    result = model.fit(\n",
        "          train_generator,\n",
        "          steps_per_epoch = 20,\n",
        "          batch_size = train_batch,\n",
        "          validation_data = validation_generator,\n",
        "          validation_batch_size= val_batch,\n",
        "          epochs=60)"
      ],
      "execution_count": 10,
      "outputs": [
        {
          "output_type": "stream",
          "text": [
            "Epoch 1/60\n",
            "20/20 [==============================] - 322s 17s/step - loss: 2.2604 - accuracy: 0.2349 - val_loss: 1.6083 - val_accuracy: 0.2458\n",
            "Epoch 2/60\n",
            "20/20 [==============================] - 84s 4s/step - loss: 1.6099 - accuracy: 0.2234 - val_loss: 1.6059 - val_accuracy: 0.2404\n",
            "Epoch 3/60\n",
            "20/20 [==============================] - 66s 3s/step - loss: 1.6083 - accuracy: 0.2039 - val_loss: 1.6061 - val_accuracy: 0.2304\n",
            "Epoch 4/60\n",
            "20/20 [==============================] - 53s 3s/step - loss: 1.6171 - accuracy: 0.2013 - val_loss: 1.6056 - val_accuracy: 0.2296\n",
            "Epoch 5/60\n",
            "20/20 [==============================] - 39s 2s/step - loss: 1.6057 - accuracy: 0.2226 - val_loss: 1.5967 - val_accuracy: 0.2481\n",
            "Epoch 6/60\n",
            "20/20 [==============================] - 34s 2s/step - loss: 1.5929 - accuracy: 0.2307 - val_loss: 1.5931 - val_accuracy: 0.2512\n",
            "Epoch 7/60\n",
            "20/20 [==============================] - 31s 2s/step - loss: 1.6002 - accuracy: 0.2464 - val_loss: 1.5867 - val_accuracy: 0.2450\n",
            "Epoch 8/60\n",
            "20/20 [==============================] - 23s 1s/step - loss: 1.6327 - accuracy: 0.2398 - val_loss: 1.5767 - val_accuracy: 0.2227\n",
            "Epoch 9/60\n",
            "20/20 [==============================] - 20s 987ms/step - loss: 1.5830 - accuracy: 0.2240 - val_loss: 1.5733 - val_accuracy: 0.2881\n",
            "Epoch 10/60\n",
            "20/20 [==============================] - 18s 953ms/step - loss: 1.5894 - accuracy: 0.2708 - val_loss: 1.5647 - val_accuracy: 0.2627\n",
            "Epoch 11/60\n",
            "20/20 [==============================] - 16s 789ms/step - loss: 1.5667 - accuracy: 0.2376 - val_loss: 1.5596 - val_accuracy: 0.2149\n",
            "Epoch 12/60\n",
            "20/20 [==============================] - 13s 660ms/step - loss: 1.5706 - accuracy: 0.2703 - val_loss: 1.5590 - val_accuracy: 0.3035\n",
            "Epoch 13/60\n",
            "20/20 [==============================] - 11s 554ms/step - loss: 1.5624 - accuracy: 0.3154 - val_loss: 1.6192 - val_accuracy: 0.2550\n",
            "Epoch 14/60\n",
            "20/20 [==============================] - 11s 581ms/step - loss: 1.5687 - accuracy: 0.2980 - val_loss: 1.5521 - val_accuracy: 0.2643\n",
            "Epoch 15/60\n",
            "20/20 [==============================] - 9s 482ms/step - loss: 1.5480 - accuracy: 0.2663 - val_loss: 1.5414 - val_accuracy: 0.2974\n",
            "Epoch 16/60\n",
            "20/20 [==============================] - 8s 406ms/step - loss: 1.5478 - accuracy: 0.2839 - val_loss: 1.5391 - val_accuracy: 0.2943\n",
            "Epoch 17/60\n",
            "20/20 [==============================] - 8s 442ms/step - loss: 1.5411 - accuracy: 0.2968 - val_loss: 1.5464 - val_accuracy: 0.3120\n",
            "Epoch 18/60\n",
            "20/20 [==============================] - 7s 380ms/step - loss: 1.5413 - accuracy: 0.3062 - val_loss: 1.5432 - val_accuracy: 0.3128\n",
            "Epoch 19/60\n",
            "20/20 [==============================] - 8s 396ms/step - loss: 1.5539 - accuracy: 0.2773 - val_loss: 1.5424 - val_accuracy: 0.3012\n",
            "Epoch 20/60\n",
            "20/20 [==============================] - 7s 361ms/step - loss: 1.5416 - accuracy: 0.2719 - val_loss: 1.5343 - val_accuracy: 0.3035\n",
            "Epoch 21/60\n",
            "20/20 [==============================] - 7s 345ms/step - loss: 1.5426 - accuracy: 0.3060 - val_loss: 1.5331 - val_accuracy: 0.3043\n",
            "Epoch 22/60\n",
            "20/20 [==============================] - 7s 379ms/step - loss: 1.5518 - accuracy: 0.2933 - val_loss: 1.5322 - val_accuracy: 0.3059\n",
            "Epoch 23/60\n",
            "20/20 [==============================] - 6s 330ms/step - loss: 1.5357 - accuracy: 0.2920 - val_loss: 1.5342 - val_accuracy: 0.3005\n",
            "Epoch 24/60\n",
            "20/20 [==============================] - 7s 361ms/step - loss: 1.5149 - accuracy: 0.3433 - val_loss: 1.5334 - val_accuracy: 0.3012\n",
            "Epoch 25/60\n",
            "20/20 [==============================] - 6s 330ms/step - loss: 1.5036 - accuracy: 0.3419 - val_loss: 1.5314 - val_accuracy: 0.3074\n",
            "Epoch 26/60\n",
            "20/20 [==============================] - 7s 342ms/step - loss: 1.5141 - accuracy: 0.3316 - val_loss: 1.5438 - val_accuracy: 0.2966\n",
            "Epoch 27/60\n",
            "20/20 [==============================] - 6s 336ms/step - loss: 1.5400 - accuracy: 0.2728 - val_loss: 1.5370 - val_accuracy: 0.2904\n",
            "Epoch 28/60\n",
            "20/20 [==============================] - 6s 329ms/step - loss: 1.5048 - accuracy: 0.3013 - val_loss: 1.5345 - val_accuracy: 0.3066\n",
            "Epoch 29/60\n",
            "20/20 [==============================] - 6s 321ms/step - loss: 1.5345 - accuracy: 0.2873 - val_loss: 1.5285 - val_accuracy: 0.3043\n",
            "Epoch 30/60\n",
            "20/20 [==============================] - 6s 320ms/step - loss: 1.5102 - accuracy: 0.3335 - val_loss: 1.5373 - val_accuracy: 0.2958\n",
            "Epoch 31/60\n",
            "20/20 [==============================] - 6s 330ms/step - loss: 1.5211 - accuracy: 0.3337 - val_loss: 1.5288 - val_accuracy: 0.3074\n",
            "Epoch 32/60\n",
            "20/20 [==============================] - 6s 320ms/step - loss: 1.5292 - accuracy: 0.3058 - val_loss: 1.5277 - val_accuracy: 0.3059\n",
            "Epoch 33/60\n",
            "20/20 [==============================] - 6s 318ms/step - loss: 1.5171 - accuracy: 0.2810 - val_loss: 1.5396 - val_accuracy: 0.2997\n",
            "Epoch 34/60\n",
            "20/20 [==============================] - 6s 325ms/step - loss: 1.5573 - accuracy: 0.3160 - val_loss: 1.5706 - val_accuracy: 0.2835\n",
            "Epoch 35/60\n",
            "20/20 [==============================] - 6s 323ms/step - loss: 1.5231 - accuracy: 0.3221 - val_loss: 1.5282 - val_accuracy: 0.3120\n",
            "Epoch 36/60\n",
            "20/20 [==============================] - 6s 331ms/step - loss: 1.5194 - accuracy: 0.3289 - val_loss: 1.5418 - val_accuracy: 0.2997\n",
            "Epoch 37/60\n",
            "20/20 [==============================] - 6s 336ms/step - loss: 1.5074 - accuracy: 0.3185 - val_loss: 1.5264 - val_accuracy: 0.3066\n",
            "Epoch 38/60\n",
            "20/20 [==============================] - 6s 319ms/step - loss: 1.5302 - accuracy: 0.3373 - val_loss: 1.5365 - val_accuracy: 0.2966\n",
            "Epoch 39/60\n",
            "20/20 [==============================] - 6s 320ms/step - loss: 1.5238 - accuracy: 0.2975 - val_loss: 1.5335 - val_accuracy: 0.3082\n",
            "Epoch 40/60\n",
            "20/20 [==============================] - 6s 320ms/step - loss: 1.5002 - accuracy: 0.3195 - val_loss: 1.5254 - val_accuracy: 0.3151\n",
            "Epoch 41/60\n",
            "20/20 [==============================] - 6s 319ms/step - loss: 1.5283 - accuracy: 0.2868 - val_loss: 1.5315 - val_accuracy: 0.3074\n",
            "Epoch 42/60\n",
            "20/20 [==============================] - 6s 319ms/step - loss: 1.5284 - accuracy: 0.2754 - val_loss: 1.5310 - val_accuracy: 0.3005\n",
            "Epoch 43/60\n",
            "20/20 [==============================] - 6s 318ms/step - loss: 1.5465 - accuracy: 0.2751 - val_loss: 1.5309 - val_accuracy: 0.3120\n",
            "Epoch 44/60\n",
            "20/20 [==============================] - 6s 319ms/step - loss: 1.5641 - accuracy: 0.2810 - val_loss: 1.5288 - val_accuracy: 0.3051\n",
            "Epoch 45/60\n",
            "20/20 [==============================] - 6s 321ms/step - loss: 1.5030 - accuracy: 0.3188 - val_loss: 1.5361 - val_accuracy: 0.3136\n",
            "Epoch 46/60\n",
            "20/20 [==============================] - 6s 320ms/step - loss: 1.5010 - accuracy: 0.3367 - val_loss: 1.5367 - val_accuracy: 0.3089\n",
            "Epoch 47/60\n",
            "20/20 [==============================] - 6s 321ms/step - loss: 1.5133 - accuracy: 0.3167 - val_loss: 1.5265 - val_accuracy: 0.3089\n",
            "Epoch 48/60\n",
            "20/20 [==============================] - 6s 323ms/step - loss: 1.4736 - accuracy: 0.3164 - val_loss: 1.5305 - val_accuracy: 0.3074\n",
            "Epoch 49/60\n",
            "20/20 [==============================] - 6s 322ms/step - loss: 1.4848 - accuracy: 0.3018 - val_loss: 1.5257 - val_accuracy: 0.3043\n",
            "Epoch 50/60\n",
            "20/20 [==============================] - 6s 321ms/step - loss: 1.5337 - accuracy: 0.2711 - val_loss: 1.5242 - val_accuracy: 0.3128\n",
            "Epoch 51/60\n",
            "20/20 [==============================] - 6s 321ms/step - loss: 1.5174 - accuracy: 0.2873 - val_loss: 1.5261 - val_accuracy: 0.3028\n",
            "Epoch 52/60\n",
            "20/20 [==============================] - 6s 320ms/step - loss: 1.5093 - accuracy: 0.3323 - val_loss: 1.5253 - val_accuracy: 0.3043\n",
            "Epoch 53/60\n",
            "20/20 [==============================] - 6s 322ms/step - loss: 1.4894 - accuracy: 0.3172 - val_loss: 1.5240 - val_accuracy: 0.3051\n",
            "Epoch 54/60\n",
            "20/20 [==============================] - 6s 318ms/step - loss: 1.4775 - accuracy: 0.3247 - val_loss: 1.5227 - val_accuracy: 0.3074\n",
            "Epoch 55/60\n",
            "20/20 [==============================] - 6s 323ms/step - loss: 1.5024 - accuracy: 0.3270 - val_loss: 1.5383 - val_accuracy: 0.3059\n",
            "Epoch 56/60\n",
            "20/20 [==============================] - 6s 324ms/step - loss: 1.5581 - accuracy: 0.2598 - val_loss: 1.5276 - val_accuracy: 0.3112\n",
            "Epoch 57/60\n",
            "20/20 [==============================] - 6s 321ms/step - loss: 1.4942 - accuracy: 0.3231 - val_loss: 1.5264 - val_accuracy: 0.3136\n",
            "Epoch 58/60\n",
            "20/20 [==============================] - 6s 320ms/step - loss: 1.5149 - accuracy: 0.3195 - val_loss: 1.5237 - val_accuracy: 0.3020\n",
            "Epoch 59/60\n",
            "20/20 [==============================] - 6s 322ms/step - loss: 1.5086 - accuracy: 0.3139 - val_loss: 1.5263 - val_accuracy: 0.3028\n",
            "Epoch 60/60\n",
            "20/20 [==============================] - 6s 325ms/step - loss: 1.4809 - accuracy: 0.3038 - val_loss: 1.5213 - val_accuracy: 0.3012\n"
          ],
          "name": "stdout"
        }
      ]
    },
    {
      "cell_type": "code",
      "metadata": {
        "colab": {
          "base_uri": "https://localhost:8080/"
        },
        "id": "kAMVOUBUhcj9",
        "outputId": "f82281d4-40d7-44e2-e4a8-4edcdebbf906"
      },
      "source": [
        "model.evaluate(validation_generator)"
      ],
      "execution_count": 11,
      "outputs": [
        {
          "output_type": "stream",
          "text": [
            "130/130 [==============================] - 5s 35ms/step - loss: 1.5213 - accuracy: 0.3012\n"
          ],
          "name": "stdout"
        },
        {
          "output_type": "execute_result",
          "data": {
            "text/plain": [
              "[1.5213196277618408, 0.3012326657772064]"
            ]
          },
          "metadata": {
            "tags": []
          },
          "execution_count": 11
        }
      ]
    },
    {
      "cell_type": "markdown",
      "metadata": {
        "id": "PjAYv-QVHXZb"
      },
      "source": [
        "Accuracy was not good with 20 and 30 epocs, so I have tried using epocs upto 60, but performance remained same"
      ]
    },
    {
      "cell_type": "code",
      "metadata": {
        "colab": {
          "base_uri": "https://localhost:8080/"
        },
        "id": "Ufw4FqsmU-g2",
        "outputId": "7f9c00cd-add7-4607-c631-171da6029ed4"
      },
      "source": [
        "x = result.history.keys()\n",
        "x"
      ],
      "execution_count": 12,
      "outputs": [
        {
          "output_type": "execute_result",
          "data": {
            "text/plain": [
              "dict_keys(['loss', 'accuracy', 'val_loss', 'val_accuracy'])"
            ]
          },
          "metadata": {
            "tags": []
          },
          "execution_count": 12
        }
      ]
    },
    {
      "cell_type": "code",
      "metadata": {
        "colab": {
          "base_uri": "https://localhost:8080/",
          "height": 573
        },
        "id": "dOKPsS3HWwUn",
        "outputId": "9b5a9c42-370a-4288-a515-8373a0cfee77"
      },
      "source": [
        "# Visualize training history\n",
        "from keras.models import Sequential\n",
        "from keras.layers import Dense\n",
        "import matplotlib.pyplot as plt\n",
        "import numpy\n",
        "plt.plot(result.history['accuracy'])\n",
        "plt.plot(result.history['val_accuracy'])\n",
        "plt.title('model accuracy')\n",
        "plt.ylabel('accuracy')\n",
        "plt.xlabel('epoch')\n",
        "plt.legend(['train', 'test'], loc='upper left')\n",
        "plt.show()\n",
        "# summarize history for loss\n",
        "plt.plot(result.history['loss'])\n",
        "plt.plot(result.history['val_loss'])\n",
        "plt.title('model loss')\n",
        "plt.ylabel('loss')\n",
        "plt.xlabel('epoch')\n",
        "plt.legend(['train', 'test'], loc='upper left')\n",
        "plt.show()"
      ],
      "execution_count": 13,
      "outputs": [
        {
          "output_type": "display_data",
          "data": {
            "image/png": "[encoded data removed]",
            "text/plain": [
              "<Figure size 432x288 with 1 Axes>"
            ]
          },
          "metadata": {
            "tags": [],
            "needs_background": "light"
          }
        },
        {
          "output_type": "display_data",
          "data": {
            "image/png": "[encoded data removed]",
            "text/plain": [
              "<Figure size 432x288 with 1 Axes>"
            ]
          },
          "metadata": {
            "tags": [],
            "needs_background": "light"
          }
        }
      ]
    },
    {
      "cell_type": "code",
      "metadata": {
        "id": "u7p4aMxliqvO"
      },
      "source": [
        "y_predict = model.predict(validation_generator)"
      ],
      "execution_count": 14,
      "outputs": []
    },
    {
      "cell_type": "code",
      "metadata": {
        "colab": {
          "base_uri": "https://localhost:8080/"
        },
        "id": "-qhQ6JA_i0YM",
        "outputId": "082ab606-ee9b-4708-d4d3-7329191f34ab"
      },
      "source": [
        "y_predict.shape"
      ],
      "execution_count": 15,
      "outputs": [
        {
          "output_type": "execute_result",
          "data": {
            "text/plain": [
              "(1298, 5)"
            ]
          },
          "metadata": {
            "tags": []
          },
          "execution_count": 15
        }
      ]
    },
    {
      "cell_type": "code",
      "metadata": {
        "id": "TRKNoHsBNvdR"
      },
      "source": [
        "val_gen_list = []\n",
        "for i in range(0,len(validation_generator)):\n",
        "    for j in range(0,val_batch):\n",
        "        try:\n",
        "              val_gen_list.append(validation_generator[i][1][j].tolist())\n",
        "        except:\n",
        "              break"
      ],
      "execution_count": 16,
      "outputs": []
    },
    {
      "cell_type": "code",
      "metadata": {
        "id": "P9u0xdNxfeHl",
        "colab": {
          "base_uri": "https://localhost:8080/"
        },
        "outputId": "b8cdcaad-b26d-48ce-f58e-87c1ca0a1441"
      },
      "source": [
        "np.argmax(y_predict, axis=1)[0:30]"
      ],
      "execution_count": 17,
      "outputs": [
        {
          "output_type": "execute_result",
          "data": {
            "text/plain": [
              "array([4, 1, 1, 1, 4, 1, 4, 1, 1, 1, 4, 4, 1, 4, 4, 4, 4, 4, 4, 1, 4, 1,\n",
              "       4, 1, 4, 4, 4, 1, 4, 4])"
            ]
          },
          "metadata": {
            "tags": []
          },
          "execution_count": 17
        }
      ]
    },
    {
      "cell_type": "code",
      "metadata": {
        "id": "sVy31j9On2U_",
        "colab": {
          "base_uri": "https://localhost:8080/"
        },
        "outputId": "fb92bc17-1b62-474c-87df-39d7f10cf72a"
      },
      "source": [
        "np.argmax(val_gen_list[0:30],axis=1)"
      ],
      "execution_count": 18,
      "outputs": [
        {
          "output_type": "execute_result",
          "data": {
            "text/plain": [
              "array([2, 0, 0, 0, 2, 3, 1, 2, 2, 1, 4, 3, 4, 4, 0, 1, 2, 0, 2, 1, 0, 3,\n",
              "       2, 1, 1, 2, 0, 4, 0, 4])"
            ]
          },
          "metadata": {
            "tags": []
          },
          "execution_count": 18
        }
      ]
    }
  ]
}