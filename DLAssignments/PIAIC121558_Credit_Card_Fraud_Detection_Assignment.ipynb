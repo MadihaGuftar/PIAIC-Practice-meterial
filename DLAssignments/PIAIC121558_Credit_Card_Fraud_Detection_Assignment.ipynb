{
  "nbformat": 4,
  "nbformat_minor": 0,
  "metadata": {
    "kernelspec": {
      "display_name": "Python 3",
      "language": "python",
      "name": "python3"
    },
    "language_info": {
      "codemirror_mode": {
        "name": "ipython",
        "version": 3
      },
      "file_extension": ".py",
      "mimetype": "text/x-python",
      "name": "python",
      "nbconvert_exporter": "python",
      "pygments_lexer": "ipython3",
      "version": "3.8.3"
    },
    "colab": {
      "name": "PIAIC121558_Credit-Card-Fraud-Detection-Assignment.ipynb",
      "provenance": [],
      "collapsed_sections": [],
      "toc_visible": true
    }
  },
  "cells": [
    {
      "cell_type": "markdown",
      "metadata": {
        "id": "53fPmCm28Or_"
      },
      "source": [
        "# **Credit Card Fraud Detecction Assignment**"
      ]
    },
    {
      "cell_type": "code",
      "metadata": {
        "id": "cuO3G7tXOSyO"
      },
      "source": [
        "import pandas as pd\n",
        "import numpy as np\n",
        "import tensorflow as tf\n",
        "from keras import models,layers\n",
        "from keras import regularizers"
      ],
      "execution_count": 23,
      "outputs": []
    },
    {
      "cell_type": "code",
      "metadata": {
        "colab": {
          "base_uri": "https://localhost:8080/"
        },
        "id": "wYSAuSCV86vv",
        "outputId": "75ec5333-d4f5-49a5-dceb-445ddec90b2c"
      },
      "source": [
        "from google.colab import drive\n",
        "drive.mount('/content/drive')\n"
      ],
      "execution_count": 24,
      "outputs": [
        {
          "output_type": "stream",
          "text": [
            "Drive already mounted at /content/drive; to attempt to forcibly remount, call drive.mount(\"/content/drive\", force_remount=True).\n"
          ],
          "name": "stdout"
        }
      ]
    },
    {
      "cell_type": "code",
      "metadata": {
        "colab": {
          "base_uri": "https://localhost:8080/",
          "height": 224
        },
        "id": "vhs0buEjOSyP",
        "outputId": "68baeb9e-fb0f-4526-dfde-3a6f8934456b"
      },
      "source": [
        "df = pd.read_csv('/content/drive/MyDrive/DL Assignments/creditcard.csv')\n",
        "df.head(5)"
      ],
      "execution_count": 25,
      "outputs": [
        {
          "output_type": "execute_result",
          "data": {
            "text/html": [
              "<div>\n",
              "<style scoped>\n",
              "    .dataframe tbody tr th:only-of-type {\n",
              "        vertical-align: middle;\n",
              "    }\n",
              "\n",
              "    .dataframe tbody tr th {\n",
              "        vertical-align: top;\n",
              "    }\n",
              "\n",
              "    .dataframe thead th {\n",
              "        text-align: right;\n",
              "    }\n",
              "</style>\n",
              "<table border=\"1\" class=\"dataframe\">\n",
              "  <thead>\n",
              "    <tr style=\"text-align: right;\">\n",
              "      <th></th>\n",
              "      <th>Time</th>\n",
              "      <th>V1</th>\n",
              "      <th>V2</th>\n",
              "      <th>V3</th>\n",
              "      <th>V4</th>\n",
              "      <th>V5</th>\n",
              "      <th>V6</th>\n",
              "      <th>V7</th>\n",
              "      <th>V8</th>\n",
              "      <th>V9</th>\n",
              "      <th>V10</th>\n",
              "      <th>V11</th>\n",
              "      <th>V12</th>\n",
              "      <th>V13</th>\n",
              "      <th>V14</th>\n",
              "      <th>V15</th>\n",
              "      <th>V16</th>\n",
              "      <th>V17</th>\n",
              "      <th>V18</th>\n",
              "      <th>V19</th>\n",
              "      <th>V20</th>\n",
              "      <th>V21</th>\n",
              "      <th>V22</th>\n",
              "      <th>V23</th>\n",
              "      <th>V24</th>\n",
              "      <th>V25</th>\n",
              "      <th>V26</th>\n",
              "      <th>V27</th>\n",
              "      <th>V28</th>\n",
              "      <th>Amount</th>\n",
              "      <th>Class</th>\n",
              "    </tr>\n",
              "  </thead>\n",
              "  <tbody>\n",
              "    <tr>\n",
              "      <th>0</th>\n",
              "      <td>0.0</td>\n",
              "      <td>-1.359807</td>\n",
              "      <td>-0.072781</td>\n",
              "      <td>2.536347</td>\n",
              "      <td>1.378155</td>\n",
              "      <td>-0.338321</td>\n",
              "      <td>0.462388</td>\n",
              "      <td>0.239599</td>\n",
              "      <td>0.098698</td>\n",
              "      <td>0.363787</td>\n",
              "      <td>0.090794</td>\n",
              "      <td>-0.551600</td>\n",
              "      <td>-0.617801</td>\n",
              "      <td>-0.991390</td>\n",
              "      <td>-0.311169</td>\n",
              "      <td>1.468177</td>\n",
              "      <td>-0.470401</td>\n",
              "      <td>0.207971</td>\n",
              "      <td>0.025791</td>\n",
              "      <td>0.403993</td>\n",
              "      <td>0.251412</td>\n",
              "      <td>-0.018307</td>\n",
              "      <td>0.277838</td>\n",
              "      <td>-0.110474</td>\n",
              "      <td>0.066928</td>\n",
              "      <td>0.128539</td>\n",
              "      <td>-0.189115</td>\n",
              "      <td>0.133558</td>\n",
              "      <td>-0.021053</td>\n",
              "      <td>149.62</td>\n",
              "      <td>0</td>\n",
              "    </tr>\n",
              "    <tr>\n",
              "      <th>1</th>\n",
              "      <td>0.0</td>\n",
              "      <td>1.191857</td>\n",
              "      <td>0.266151</td>\n",
              "      <td>0.166480</td>\n",
              "      <td>0.448154</td>\n",
              "      <td>0.060018</td>\n",
              "      <td>-0.082361</td>\n",
              "      <td>-0.078803</td>\n",
              "      <td>0.085102</td>\n",
              "      <td>-0.255425</td>\n",
              "      <td>-0.166974</td>\n",
              "      <td>1.612727</td>\n",
              "      <td>1.065235</td>\n",
              "      <td>0.489095</td>\n",
              "      <td>-0.143772</td>\n",
              "      <td>0.635558</td>\n",
              "      <td>0.463917</td>\n",
              "      <td>-0.114805</td>\n",
              "      <td>-0.183361</td>\n",
              "      <td>-0.145783</td>\n",
              "      <td>-0.069083</td>\n",
              "      <td>-0.225775</td>\n",
              "      <td>-0.638672</td>\n",
              "      <td>0.101288</td>\n",
              "      <td>-0.339846</td>\n",
              "      <td>0.167170</td>\n",
              "      <td>0.125895</td>\n",
              "      <td>-0.008983</td>\n",
              "      <td>0.014724</td>\n",
              "      <td>2.69</td>\n",
              "      <td>0</td>\n",
              "    </tr>\n",
              "    <tr>\n",
              "      <th>2</th>\n",
              "      <td>1.0</td>\n",
              "      <td>-1.358354</td>\n",
              "      <td>-1.340163</td>\n",
              "      <td>1.773209</td>\n",
              "      <td>0.379780</td>\n",
              "      <td>-0.503198</td>\n",
              "      <td>1.800499</td>\n",
              "      <td>0.791461</td>\n",
              "      <td>0.247676</td>\n",
              "      <td>-1.514654</td>\n",
              "      <td>0.207643</td>\n",
              "      <td>0.624501</td>\n",
              "      <td>0.066084</td>\n",
              "      <td>0.717293</td>\n",
              "      <td>-0.165946</td>\n",
              "      <td>2.345865</td>\n",
              "      <td>-2.890083</td>\n",
              "      <td>1.109969</td>\n",
              "      <td>-0.121359</td>\n",
              "      <td>-2.261857</td>\n",
              "      <td>0.524980</td>\n",
              "      <td>0.247998</td>\n",
              "      <td>0.771679</td>\n",
              "      <td>0.909412</td>\n",
              "      <td>-0.689281</td>\n",
              "      <td>-0.327642</td>\n",
              "      <td>-0.139097</td>\n",
              "      <td>-0.055353</td>\n",
              "      <td>-0.059752</td>\n",
              "      <td>378.66</td>\n",
              "      <td>0</td>\n",
              "    </tr>\n",
              "    <tr>\n",
              "      <th>3</th>\n",
              "      <td>1.0</td>\n",
              "      <td>-0.966272</td>\n",
              "      <td>-0.185226</td>\n",
              "      <td>1.792993</td>\n",
              "      <td>-0.863291</td>\n",
              "      <td>-0.010309</td>\n",
              "      <td>1.247203</td>\n",
              "      <td>0.237609</td>\n",
              "      <td>0.377436</td>\n",
              "      <td>-1.387024</td>\n",
              "      <td>-0.054952</td>\n",
              "      <td>-0.226487</td>\n",
              "      <td>0.178228</td>\n",
              "      <td>0.507757</td>\n",
              "      <td>-0.287924</td>\n",
              "      <td>-0.631418</td>\n",
              "      <td>-1.059647</td>\n",
              "      <td>-0.684093</td>\n",
              "      <td>1.965775</td>\n",
              "      <td>-1.232622</td>\n",
              "      <td>-0.208038</td>\n",
              "      <td>-0.108300</td>\n",
              "      <td>0.005274</td>\n",
              "      <td>-0.190321</td>\n",
              "      <td>-1.175575</td>\n",
              "      <td>0.647376</td>\n",
              "      <td>-0.221929</td>\n",
              "      <td>0.062723</td>\n",
              "      <td>0.061458</td>\n",
              "      <td>123.50</td>\n",
              "      <td>0</td>\n",
              "    </tr>\n",
              "    <tr>\n",
              "      <th>4</th>\n",
              "      <td>2.0</td>\n",
              "      <td>-1.158233</td>\n",
              "      <td>0.877737</td>\n",
              "      <td>1.548718</td>\n",
              "      <td>0.403034</td>\n",
              "      <td>-0.407193</td>\n",
              "      <td>0.095921</td>\n",
              "      <td>0.592941</td>\n",
              "      <td>-0.270533</td>\n",
              "      <td>0.817739</td>\n",
              "      <td>0.753074</td>\n",
              "      <td>-0.822843</td>\n",
              "      <td>0.538196</td>\n",
              "      <td>1.345852</td>\n",
              "      <td>-1.119670</td>\n",
              "      <td>0.175121</td>\n",
              "      <td>-0.451449</td>\n",
              "      <td>-0.237033</td>\n",
              "      <td>-0.038195</td>\n",
              "      <td>0.803487</td>\n",
              "      <td>0.408542</td>\n",
              "      <td>-0.009431</td>\n",
              "      <td>0.798278</td>\n",
              "      <td>-0.137458</td>\n",
              "      <td>0.141267</td>\n",
              "      <td>-0.206010</td>\n",
              "      <td>0.502292</td>\n",
              "      <td>0.219422</td>\n",
              "      <td>0.215153</td>\n",
              "      <td>69.99</td>\n",
              "      <td>0</td>\n",
              "    </tr>\n",
              "  </tbody>\n",
              "</table>\n",
              "</div>"
            ],
            "text/plain": [
              "   Time        V1        V2        V3  ...       V27       V28  Amount  Class\n",
              "0   0.0 -1.359807 -0.072781  2.536347  ...  0.133558 -0.021053  149.62      0\n",
              "1   0.0  1.191857  0.266151  0.166480  ... -0.008983  0.014724    2.69      0\n",
              "2   1.0 -1.358354 -1.340163  1.773209  ... -0.055353 -0.059752  378.66      0\n",
              "3   1.0 -0.966272 -0.185226  1.792993  ...  0.062723  0.061458  123.50      0\n",
              "4   2.0 -1.158233  0.877737  1.548718  ...  0.219422  0.215153   69.99      0\n",
              "\n",
              "[5 rows x 31 columns]"
            ]
          },
          "metadata": {
            "tags": []
          },
          "execution_count": 25
        }
      ]
    },
    {
      "cell_type": "code",
      "metadata": {
        "id": "yXCGjtDxOSyS"
      },
      "source": [
        "non_fraud=df[df[\"Class\"]==0]\n",
        "fraud = df[df[\"Class\"]==1]\n",
        "non_fraud=non_fraud.sample(3*fraud.shape[0])\n",
        "data = fraud.append(non_fraud, ignore_index=True)"
      ],
      "execution_count": 26,
      "outputs": []
    },
    {
      "cell_type": "code",
      "metadata": {
        "id": "z2T3QgK2OSyT"
      },
      "source": [
        "train_data = data.sample(frac= 0.7, random_state=125)\n",
        "test_data =  data.drop(train_data.index)"
      ],
      "execution_count": 27,
      "outputs": []
    },
    {
      "cell_type": "code",
      "metadata": {
        "id": "3IJAqRiSOSyU"
      },
      "source": [
        "train_labels = train_data.iloc[:,-1]\n",
        "train_data = train_data.iloc[:,0:-1]\n",
        "test_labels = test_data.iloc[:,-1]\n",
        "test_data = test_data.iloc[:,0:-1]"
      ],
      "execution_count": 28,
      "outputs": []
    },
    {
      "cell_type": "code",
      "metadata": {
        "id": "mj2n42NfOSyU"
      },
      "source": [
        "train_mean = train_data.mean(axis=0)\n",
        "train_data -= train_mean\n",
        "train_std = train_data.std(axis=0)\n",
        "train_data /= train_std\n",
        "test_data -= train_mean\n",
        "test_data /= train_std"
      ],
      "execution_count": 29,
      "outputs": []
    },
    {
      "cell_type": "code",
      "metadata": {
        "colab": {
          "base_uri": "https://localhost:8080/",
          "height": 402
        },
        "id": "p5Js2O1HOSyV",
        "outputId": "fcc24bbe-6696-4be1-8d89-136f7fc3a28e"
      },
      "source": [
        "train_data.describe()"
      ],
      "execution_count": 30,
      "outputs": [
        {
          "output_type": "execute_result",
          "data": {
            "text/html": [
              "<div>\n",
              "<style scoped>\n",
              "    .dataframe tbody tr th:only-of-type {\n",
              "        vertical-align: middle;\n",
              "    }\n",
              "\n",
              "    .dataframe tbody tr th {\n",
              "        vertical-align: top;\n",
              "    }\n",
              "\n",
              "    .dataframe thead th {\n",
              "        text-align: right;\n",
              "    }\n",
              "</style>\n",
              "<table border=\"1\" class=\"dataframe\">\n",
              "  <thead>\n",
              "    <tr style=\"text-align: right;\">\n",
              "      <th></th>\n",
              "      <th>Time</th>\n",
              "      <th>V1</th>\n",
              "      <th>V2</th>\n",
              "      <th>V3</th>\n",
              "      <th>V4</th>\n",
              "      <th>V5</th>\n",
              "      <th>V6</th>\n",
              "      <th>V7</th>\n",
              "      <th>V8</th>\n",
              "      <th>V9</th>\n",
              "      <th>V10</th>\n",
              "      <th>V11</th>\n",
              "      <th>V12</th>\n",
              "      <th>V13</th>\n",
              "      <th>V14</th>\n",
              "      <th>V15</th>\n",
              "      <th>V16</th>\n",
              "      <th>V17</th>\n",
              "      <th>V18</th>\n",
              "      <th>V19</th>\n",
              "      <th>V20</th>\n",
              "      <th>V21</th>\n",
              "      <th>V22</th>\n",
              "      <th>V23</th>\n",
              "      <th>V24</th>\n",
              "      <th>V25</th>\n",
              "      <th>V26</th>\n",
              "      <th>V27</th>\n",
              "      <th>V28</th>\n",
              "      <th>Amount</th>\n",
              "    </tr>\n",
              "  </thead>\n",
              "  <tbody>\n",
              "    <tr>\n",
              "      <th>count</th>\n",
              "      <td>1.378000e+03</td>\n",
              "      <td>1.378000e+03</td>\n",
              "      <td>1.378000e+03</td>\n",
              "      <td>1.378000e+03</td>\n",
              "      <td>1.378000e+03</td>\n",
              "      <td>1.378000e+03</td>\n",
              "      <td>1.378000e+03</td>\n",
              "      <td>1.378000e+03</td>\n",
              "      <td>1.378000e+03</td>\n",
              "      <td>1.378000e+03</td>\n",
              "      <td>1.378000e+03</td>\n",
              "      <td>1.378000e+03</td>\n",
              "      <td>1.378000e+03</td>\n",
              "      <td>1.378000e+03</td>\n",
              "      <td>1.378000e+03</td>\n",
              "      <td>1.378000e+03</td>\n",
              "      <td>1.378000e+03</td>\n",
              "      <td>1.378000e+03</td>\n",
              "      <td>1.378000e+03</td>\n",
              "      <td>1.378000e+03</td>\n",
              "      <td>1.378000e+03</td>\n",
              "      <td>1.378000e+03</td>\n",
              "      <td>1.378000e+03</td>\n",
              "      <td>1.378000e+03</td>\n",
              "      <td>1.378000e+03</td>\n",
              "      <td>1.378000e+03</td>\n",
              "      <td>1.378000e+03</td>\n",
              "      <td>1.378000e+03</td>\n",
              "      <td>1.378000e+03</td>\n",
              "      <td>1.378000e+03</td>\n",
              "    </tr>\n",
              "    <tr>\n",
              "      <th>mean</th>\n",
              "      <td>-9.668125e-18</td>\n",
              "      <td>-1.285458e-16</td>\n",
              "      <td>2.723189e-16</td>\n",
              "      <td>3.585263e-17</td>\n",
              "      <td>-8.524064e-17</td>\n",
              "      <td>-1.660903e-16</td>\n",
              "      <td>3.403180e-16</td>\n",
              "      <td>-3.192130e-16</td>\n",
              "      <td>4.342599e-17</td>\n",
              "      <td>-7.528750e-16</td>\n",
              "      <td>1.748722e-16</td>\n",
              "      <td>9.120265e-17</td>\n",
              "      <td>1.349509e-16</td>\n",
              "      <td>-8.878561e-17</td>\n",
              "      <td>5.847604e-16</td>\n",
              "      <td>-1.965852e-17</td>\n",
              "      <td>1.998683e-16</td>\n",
              "      <td>-2.475040e-16</td>\n",
              "      <td>1.096124e-16</td>\n",
              "      <td>1.053826e-16</td>\n",
              "      <td>-1.309225e-17</td>\n",
              "      <td>-4.355692e-17</td>\n",
              "      <td>1.804717e-17</td>\n",
              "      <td>-4.205634e-17</td>\n",
              "      <td>-2.207555e-17</td>\n",
              "      <td>-9.990396e-18</td>\n",
              "      <td>-8.218913e-17</td>\n",
              "      <td>-1.941682e-17</td>\n",
              "      <td>2.239782e-17</td>\n",
              "      <td>-1.901801e-16</td>\n",
              "    </tr>\n",
              "    <tr>\n",
              "      <th>std</th>\n",
              "      <td>1.000000e+00</td>\n",
              "      <td>1.000000e+00</td>\n",
              "      <td>1.000000e+00</td>\n",
              "      <td>1.000000e+00</td>\n",
              "      <td>1.000000e+00</td>\n",
              "      <td>1.000000e+00</td>\n",
              "      <td>1.000000e+00</td>\n",
              "      <td>1.000000e+00</td>\n",
              "      <td>1.000000e+00</td>\n",
              "      <td>1.000000e+00</td>\n",
              "      <td>1.000000e+00</td>\n",
              "      <td>1.000000e+00</td>\n",
              "      <td>1.000000e+00</td>\n",
              "      <td>1.000000e+00</td>\n",
              "      <td>1.000000e+00</td>\n",
              "      <td>1.000000e+00</td>\n",
              "      <td>1.000000e+00</td>\n",
              "      <td>1.000000e+00</td>\n",
              "      <td>1.000000e+00</td>\n",
              "      <td>1.000000e+00</td>\n",
              "      <td>1.000000e+00</td>\n",
              "      <td>1.000000e+00</td>\n",
              "      <td>1.000000e+00</td>\n",
              "      <td>1.000000e+00</td>\n",
              "      <td>1.000000e+00</td>\n",
              "      <td>1.000000e+00</td>\n",
              "      <td>1.000000e+00</td>\n",
              "      <td>1.000000e+00</td>\n",
              "      <td>1.000000e+00</td>\n",
              "      <td>1.000000e+00</td>\n",
              "    </tr>\n",
              "    <tr>\n",
              "      <th>min</th>\n",
              "      <td>-1.876007e+00</td>\n",
              "      <td>-6.444569e+00</td>\n",
              "      <td>-5.973838e+00</td>\n",
              "      <td>-5.833718e+00</td>\n",
              "      <td>-2.111306e+00</td>\n",
              "      <td>-8.235493e+00</td>\n",
              "      <td>-5.560683e+00</td>\n",
              "      <td>-8.811067e+00</td>\n",
              "      <td>-1.104741e+01</td>\n",
              "      <td>-6.343998e+00</td>\n",
              "      <td>-6.197009e+00</td>\n",
              "      <td>-1.672080e+00</td>\n",
              "      <td>-4.599043e+00</td>\n",
              "      <td>-3.235098e+00</td>\n",
              "      <td>-4.509388e+00</td>\n",
              "      <td>-4.611550e+00</td>\n",
              "      <td>-4.666472e+00</td>\n",
              "      <td>-4.685864e+00</td>\n",
              "      <td>-4.575750e+00</td>\n",
              "      <td>-3.632603e+00</td>\n",
              "      <td>-1.215265e+01</td>\n",
              "      <td>-1.073990e+01</td>\n",
              "      <td>-9.013068e+00</td>\n",
              "      <td>-1.903897e+01</td>\n",
              "      <td>-3.910735e+00</td>\n",
              "      <td>-7.865969e+00</td>\n",
              "      <td>-2.698170e+00</td>\n",
              "      <td>-1.107363e+01</td>\n",
              "      <td>-2.792215e+00</td>\n",
              "      <td>-3.409778e-01</td>\n",
              "    </tr>\n",
              "    <tr>\n",
              "      <th>25%</th>\n",
              "      <td>-8.447164e-01</td>\n",
              "      <td>-5.347840e-02</td>\n",
              "      <td>-4.274425e-01</td>\n",
              "      <td>-3.508004e-02</td>\n",
              "      <td>-6.348171e-01</td>\n",
              "      <td>-7.351042e-02</td>\n",
              "      <td>-4.284920e-01</td>\n",
              "      <td>4.274114e-02</td>\n",
              "      <td>-8.463894e-02</td>\n",
              "      <td>-3.046072e-01</td>\n",
              "      <td>1.837273e-02</td>\n",
              "      <td>-6.569008e-01</td>\n",
              "      <td>-1.426273e-01</td>\n",
              "      <td>-6.912055e-01</td>\n",
              "      <td>-2.626490e-02</td>\n",
              "      <td>-5.730330e-01</td>\n",
              "      <td>-5.445523e-02</td>\n",
              "      <td>1.701012e-01</td>\n",
              "      <td>-1.544411e-01</td>\n",
              "      <td>-5.705117e-01</td>\n",
              "      <td>-2.276816e-01</td>\n",
              "      <td>-1.716380e-01</td>\n",
              "      <td>-5.568643e-01</td>\n",
              "      <td>-1.673262e-01</td>\n",
              "      <td>-5.786205e-01</td>\n",
              "      <td>-5.648272e-01</td>\n",
              "      <td>-6.601270e-01</td>\n",
              "      <td>-1.273159e-01</td>\n",
              "      <td>-1.363497e-01</td>\n",
              "      <td>-3.320429e-01</td>\n",
              "    </tr>\n",
              "    <tr>\n",
              "      <th>50%</th>\n",
              "      <td>-1.517297e-01</td>\n",
              "      <td>2.073025e-01</td>\n",
              "      <td>-1.622188e-01</td>\n",
              "      <td>3.102550e-01</td>\n",
              "      <td>-2.617622e-01</td>\n",
              "      <td>1.987660e-01</td>\n",
              "      <td>-8.068216e-02</td>\n",
              "      <td>2.576175e-01</td>\n",
              "      <td>-3.143213e-03</td>\n",
              "      <td>1.835344e-01</td>\n",
              "      <td>3.136193e-01</td>\n",
              "      <td>-2.439674e-01</td>\n",
              "      <td>3.926750e-01</td>\n",
              "      <td>2.073135e-02</td>\n",
              "      <td>4.102569e-01</td>\n",
              "      <td>3.834772e-02</td>\n",
              "      <td>3.391867e-01</td>\n",
              "      <td>3.162774e-01</td>\n",
              "      <td>2.436136e-01</td>\n",
              "      <td>-8.618971e-02</td>\n",
              "      <td>-7.425034e-02</td>\n",
              "      <td>-5.141380e-02</td>\n",
              "      <td>8.634771e-03</td>\n",
              "      <td>1.897711e-03</td>\n",
              "      <td>8.992155e-02</td>\n",
              "      <td>4.178200e-02</td>\n",
              "      <td>-9.456332e-02</td>\n",
              "      <td>-1.546123e-02</td>\n",
              "      <td>-2.890165e-02</td>\n",
              "      <td>-2.809243e-01</td>\n",
              "    </tr>\n",
              "    <tr>\n",
              "      <th>75%</th>\n",
              "      <td>9.557249e-01</td>\n",
              "      <td>5.650033e-01</td>\n",
              "      <td>1.388769e-01</td>\n",
              "      <td>5.220940e-01</td>\n",
              "      <td>3.160380e-01</td>\n",
              "      <td>4.169520e-01</td>\n",
              "      <td>3.436839e-01</td>\n",
              "      <td>4.007080e-01</td>\n",
              "      <td>1.250383e-01</td>\n",
              "      <td>5.377227e-01</td>\n",
              "      <td>4.544817e-01</td>\n",
              "      <td>2.788119e-01</td>\n",
              "      <td>5.656569e-01</td>\n",
              "      <td>6.761370e-01</td>\n",
              "      <td>5.697083e-01</td>\n",
              "      <td>6.736366e-01</td>\n",
              "      <td>5.438821e-01</td>\n",
              "      <td>4.451661e-01</td>\n",
              "      <td>5.217653e-01</td>\n",
              "      <td>4.259361e-01</td>\n",
              "      <td>1.777497e-01</td>\n",
              "      <td>8.982347e-02</td>\n",
              "      <td>5.555962e-01</td>\n",
              "      <td>1.892444e-01</td>\n",
              "      <td>7.354231e-01</td>\n",
              "      <td>6.141111e-01</td>\n",
              "      <td>5.566854e-01</td>\n",
              "      <td>2.299683e-01</td>\n",
              "      <td>1.384198e-01</td>\n",
              "      <td>-4.299391e-02</td>\n",
              "    </tr>\n",
              "    <tr>\n",
              "      <th>max</th>\n",
              "      <td>1.694795e+00</td>\n",
              "      <td>8.212080e-01</td>\n",
              "      <td>6.724124e+00</td>\n",
              "      <td>1.083812e+00</td>\n",
              "      <td>3.989006e+00</td>\n",
              "      <td>4.156920e+00</td>\n",
              "      <td>1.203465e+01</td>\n",
              "      <td>6.896590e+00</td>\n",
              "      <td>5.340985e+00</td>\n",
              "      <td>3.374017e+00</td>\n",
              "      <td>3.295577e+00</td>\n",
              "      <td>4.657849e+00</td>\n",
              "      <td>1.280607e+00</td>\n",
              "      <td>3.125373e+00</td>\n",
              "      <td>1.397837e+00</td>\n",
              "      <td>2.750687e+00</td>\n",
              "      <td>1.734425e+00</td>\n",
              "      <td>1.791165e+00</td>\n",
              "      <td>2.261415e+00</td>\n",
              "      <td>4.361274e+00</td>\n",
              "      <td>9.400806e+00</td>\n",
              "      <td>1.266231e+01</td>\n",
              "      <td>8.449082e+00</td>\n",
              "      <td>5.450411e+00</td>\n",
              "      <td>5.031230e+00</td>\n",
              "      <td>3.586429e+00</td>\n",
              "      <td>5.679396e+00</td>\n",
              "      <td>5.333927e+00</td>\n",
              "      <td>2.322558e+01</td>\n",
              "      <td>2.109872e+01</td>\n",
              "    </tr>\n",
              "  </tbody>\n",
              "</table>\n",
              "</div>"
            ],
            "text/plain": [
              "               Time            V1  ...           V28        Amount\n",
              "count  1.378000e+03  1.378000e+03  ...  1.378000e+03  1.378000e+03\n",
              "mean  -9.668125e-18 -1.285458e-16  ...  2.239782e-17 -1.901801e-16\n",
              "std    1.000000e+00  1.000000e+00  ...  1.000000e+00  1.000000e+00\n",
              "min   -1.876007e+00 -6.444569e+00  ... -2.792215e+00 -3.409778e-01\n",
              "25%   -8.447164e-01 -5.347840e-02  ... -1.363497e-01 -3.320429e-01\n",
              "50%   -1.517297e-01  2.073025e-01  ... -2.890165e-02 -2.809243e-01\n",
              "75%    9.557249e-01  5.650033e-01  ...  1.384198e-01 -4.299391e-02\n",
              "max    1.694795e+00  8.212080e-01  ...  2.322558e+01  2.109872e+01\n",
              "\n",
              "[8 rows x 30 columns]"
            ]
          },
          "metadata": {
            "tags": []
          },
          "execution_count": 30
        }
      ]
    },
    {
      "cell_type": "code",
      "metadata": {
        "id": "2TKCKsnCOSyX"
      },
      "source": [
        "train_data = train_data.to_numpy()\n",
        "train_labels = train_labels.to_numpy().astype('float64')\n",
        "\n",
        "test_data = test_data.to_numpy()\n",
        "test_labels = test_labels.to_numpy().astype('float64')"
      ],
      "execution_count": 31,
      "outputs": []
    },
    {
      "cell_type": "code",
      "metadata": {
        "id": "zbp00lEnOSyX"
      },
      "source": [
        "model = models.Sequential()\n",
        "model.add(layers.Dense(20, activation='relu',kernel_regularizer=regularizers.l2(0.001), input_shape=(train_data.shape[1],)))\n",
        "model.add(layers.Dropout(0.5))\n",
        "model.add(layers.Dense(10, activation='relu',kernel_regularizer=regularizers.l2(0.001)))\n",
        "model.add(layers.Dropout(0.5))\n",
        "model.add(layers.Dense(8, activation='relu',kernel_regularizer=regularizers.l2(0.001)))\n",
        "model.add(layers.Dropout(0.5))\n",
        "model.add(layers.Dense(6, activation='relu',kernel_regularizer=regularizers.l2(0.001)))\n",
        "model.add(layers.Dropout(0.5))\n",
        "model.add(layers.Dense(1, activation='sigmoid'))"
      ],
      "execution_count": 32,
      "outputs": []
    },
    {
      "cell_type": "code",
      "metadata": {
        "id": "OiQ31QjqOSyY"
      },
      "source": [
        "model.compile(loss= 'binary_crossentropy', optimizer= 'rmsprop', metrics=['accuracy'])"
      ],
      "execution_count": 33,
      "outputs": []
    },
    {
      "cell_type": "code",
      "metadata": {
        "colab": {
          "base_uri": "https://localhost:8080/"
        },
        "id": "Naq4aeQxOSyZ",
        "outputId": "3837fad8-05f2-48d7-cc3d-a32ce0984df9"
      },
      "source": [
        "model.fit(train_data, train_labels, epochs=70,validation_split = 0.3)"
      ],
      "execution_count": 34,
      "outputs": [
        {
          "output_type": "stream",
          "text": [
            "Epoch 1/70\n",
            "31/31 [==============================] - 1s 9ms/step - loss: 1.1141 - accuracy: 0.4962 - val_loss: 0.7098 - val_accuracy: 0.6329\n",
            "Epoch 2/70\n",
            "31/31 [==============================] - 0s 3ms/step - loss: 0.9116 - accuracy: 0.5786 - val_loss: 0.6810 - val_accuracy: 0.8357\n",
            "Epoch 3/70\n",
            "31/31 [==============================] - 0s 3ms/step - loss: 0.8079 - accuracy: 0.6212 - val_loss: 0.6672 - val_accuracy: 0.8841\n",
            "Epoch 4/70\n",
            "31/31 [==============================] - 0s 3ms/step - loss: 0.7443 - accuracy: 0.6717 - val_loss: 0.6517 - val_accuracy: 0.8841\n",
            "Epoch 5/70\n",
            "31/31 [==============================] - 0s 3ms/step - loss: 0.7097 - accuracy: 0.7477 - val_loss: 0.6360 - val_accuracy: 0.8816\n",
            "Epoch 6/70\n",
            "31/31 [==============================] - 0s 4ms/step - loss: 0.6813 - accuracy: 0.7493 - val_loss: 0.6176 - val_accuracy: 0.8816\n",
            "Epoch 7/70\n",
            "31/31 [==============================] - 0s 3ms/step - loss: 0.6542 - accuracy: 0.7694 - val_loss: 0.5975 - val_accuracy: 0.8816\n",
            "Epoch 8/70\n",
            "31/31 [==============================] - 0s 3ms/step - loss: 0.6418 - accuracy: 0.8042 - val_loss: 0.5726 - val_accuracy: 0.8865\n",
            "Epoch 9/70\n",
            "31/31 [==============================] - 0s 3ms/step - loss: 0.6301 - accuracy: 0.8063 - val_loss: 0.5532 - val_accuracy: 0.8913\n",
            "Epoch 10/70\n",
            "31/31 [==============================] - 0s 3ms/step - loss: 0.6150 - accuracy: 0.7948 - val_loss: 0.5326 - val_accuracy: 0.8937\n",
            "Epoch 11/70\n",
            "31/31 [==============================] - 0s 3ms/step - loss: 0.5807 - accuracy: 0.8333 - val_loss: 0.5022 - val_accuracy: 0.9082\n",
            "Epoch 12/70\n",
            "31/31 [==============================] - 0s 3ms/step - loss: 0.5950 - accuracy: 0.8108 - val_loss: 0.4817 - val_accuracy: 0.9155\n",
            "Epoch 13/70\n",
            "31/31 [==============================] - 0s 4ms/step - loss: 0.5865 - accuracy: 0.8181 - val_loss: 0.4529 - val_accuracy: 0.9251\n",
            "Epoch 14/70\n",
            "31/31 [==============================] - 0s 3ms/step - loss: 0.5404 - accuracy: 0.8473 - val_loss: 0.4285 - val_accuracy: 0.9324\n",
            "Epoch 15/70\n",
            "31/31 [==============================] - 0s 4ms/step - loss: 0.5224 - accuracy: 0.8435 - val_loss: 0.4109 - val_accuracy: 0.9324\n",
            "Epoch 16/70\n",
            "31/31 [==============================] - 0s 3ms/step - loss: 0.5389 - accuracy: 0.8335 - val_loss: 0.3885 - val_accuracy: 0.9372\n",
            "Epoch 17/70\n",
            "31/31 [==============================] - 0s 3ms/step - loss: 0.5242 - accuracy: 0.8329 - val_loss: 0.3743 - val_accuracy: 0.9372\n",
            "Epoch 18/70\n",
            "31/31 [==============================] - 0s 3ms/step - loss: 0.5093 - accuracy: 0.8564 - val_loss: 0.3581 - val_accuracy: 0.9372\n",
            "Epoch 19/70\n",
            "31/31 [==============================] - 0s 4ms/step - loss: 0.4573 - accuracy: 0.8707 - val_loss: 0.3400 - val_accuracy: 0.9396\n",
            "Epoch 20/70\n",
            "31/31 [==============================] - 0s 3ms/step - loss: 0.4689 - accuracy: 0.8489 - val_loss: 0.3260 - val_accuracy: 0.9396\n",
            "Epoch 21/70\n",
            "31/31 [==============================] - 0s 4ms/step - loss: 0.4713 - accuracy: 0.8863 - val_loss: 0.3161 - val_accuracy: 0.9420\n",
            "Epoch 22/70\n",
            "31/31 [==============================] - 0s 3ms/step - loss: 0.4726 - accuracy: 0.8702 - val_loss: 0.3073 - val_accuracy: 0.9420\n",
            "Epoch 23/70\n",
            "31/31 [==============================] - 0s 3ms/step - loss: 0.5239 - accuracy: 0.8729 - val_loss: 0.2996 - val_accuracy: 0.9420\n",
            "Epoch 24/70\n",
            "31/31 [==============================] - 0s 3ms/step - loss: 0.4525 - accuracy: 0.8603 - val_loss: 0.2948 - val_accuracy: 0.9420\n",
            "Epoch 25/70\n",
            "31/31 [==============================] - 0s 3ms/step - loss: 0.4465 - accuracy: 0.8627 - val_loss: 0.2868 - val_accuracy: 0.9420\n",
            "Epoch 26/70\n",
            "31/31 [==============================] - 0s 3ms/step - loss: 0.4233 - accuracy: 0.8878 - val_loss: 0.2809 - val_accuracy: 0.9469\n",
            "Epoch 27/70\n",
            "31/31 [==============================] - 0s 3ms/step - loss: 0.3976 - accuracy: 0.8923 - val_loss: 0.2751 - val_accuracy: 0.9469\n",
            "Epoch 28/70\n",
            "31/31 [==============================] - 0s 4ms/step - loss: 0.4239 - accuracy: 0.8731 - val_loss: 0.2687 - val_accuracy: 0.9493\n",
            "Epoch 29/70\n",
            "31/31 [==============================] - 0s 3ms/step - loss: 0.5788 - accuracy: 0.8679 - val_loss: 0.2645 - val_accuracy: 0.9493\n",
            "Epoch 30/70\n",
            "31/31 [==============================] - 0s 3ms/step - loss: 0.4136 - accuracy: 0.8774 - val_loss: 0.2578 - val_accuracy: 0.9493\n",
            "Epoch 31/70\n",
            "31/31 [==============================] - 0s 4ms/step - loss: 0.4002 - accuracy: 0.8761 - val_loss: 0.2528 - val_accuracy: 0.9493\n",
            "Epoch 32/70\n",
            "31/31 [==============================] - 0s 3ms/step - loss: 0.3778 - accuracy: 0.8950 - val_loss: 0.2473 - val_accuracy: 0.9493\n",
            "Epoch 33/70\n",
            "31/31 [==============================] - 0s 3ms/step - loss: 0.3668 - accuracy: 0.9007 - val_loss: 0.2430 - val_accuracy: 0.9493\n",
            "Epoch 34/70\n",
            "31/31 [==============================] - 0s 3ms/step - loss: 0.5228 - accuracy: 0.9004 - val_loss: 0.2399 - val_accuracy: 0.9493\n",
            "Epoch 35/70\n",
            "31/31 [==============================] - 0s 3ms/step - loss: 0.3738 - accuracy: 0.9042 - val_loss: 0.2348 - val_accuracy: 0.9493\n",
            "Epoch 36/70\n",
            "31/31 [==============================] - 0s 3ms/step - loss: 0.4187 - accuracy: 0.8916 - val_loss: 0.2324 - val_accuracy: 0.9517\n",
            "Epoch 37/70\n",
            "31/31 [==============================] - 0s 3ms/step - loss: 0.3661 - accuracy: 0.8944 - val_loss: 0.2271 - val_accuracy: 0.9517\n",
            "Epoch 38/70\n",
            "31/31 [==============================] - 0s 3ms/step - loss: 0.5058 - accuracy: 0.9055 - val_loss: 0.2241 - val_accuracy: 0.9517\n",
            "Epoch 39/70\n",
            "31/31 [==============================] - 0s 3ms/step - loss: 0.3226 - accuracy: 0.9187 - val_loss: 0.2194 - val_accuracy: 0.9541\n",
            "Epoch 40/70\n",
            "31/31 [==============================] - 0s 3ms/step - loss: 0.3786 - accuracy: 0.9002 - val_loss: 0.2167 - val_accuracy: 0.9541\n",
            "Epoch 41/70\n",
            "31/31 [==============================] - 0s 3ms/step - loss: 0.7310 - accuracy: 0.9097 - val_loss: 0.2152 - val_accuracy: 0.9541\n",
            "Epoch 42/70\n",
            "31/31 [==============================] - 0s 3ms/step - loss: 0.3998 - accuracy: 0.9111 - val_loss: 0.2136 - val_accuracy: 0.9541\n",
            "Epoch 43/70\n",
            "31/31 [==============================] - 0s 3ms/step - loss: 0.3474 - accuracy: 0.9063 - val_loss: 0.2124 - val_accuracy: 0.9541\n",
            "Epoch 44/70\n",
            "31/31 [==============================] - 0s 3ms/step - loss: 0.3102 - accuracy: 0.9260 - val_loss: 0.2075 - val_accuracy: 0.9565\n",
            "Epoch 45/70\n",
            "31/31 [==============================] - 0s 3ms/step - loss: 0.3973 - accuracy: 0.9158 - val_loss: 0.2058 - val_accuracy: 0.9589\n",
            "Epoch 46/70\n",
            "31/31 [==============================] - 0s 4ms/step - loss: 0.3197 - accuracy: 0.9223 - val_loss: 0.2034 - val_accuracy: 0.9589\n",
            "Epoch 47/70\n",
            "31/31 [==============================] - 0s 3ms/step - loss: 0.3074 - accuracy: 0.9297 - val_loss: 0.2006 - val_accuracy: 0.9589\n",
            "Epoch 48/70\n",
            "31/31 [==============================] - 0s 3ms/step - loss: 0.2745 - accuracy: 0.9343 - val_loss: 0.1991 - val_accuracy: 0.9589\n",
            "Epoch 49/70\n",
            "31/31 [==============================] - 0s 3ms/step - loss: 0.4803 - accuracy: 0.9219 - val_loss: 0.1976 - val_accuracy: 0.9589\n",
            "Epoch 50/70\n",
            "31/31 [==============================] - 0s 3ms/step - loss: 0.3268 - accuracy: 0.9189 - val_loss: 0.1961 - val_accuracy: 0.9589\n",
            "Epoch 51/70\n",
            "31/31 [==============================] - 0s 3ms/step - loss: 0.3583 - accuracy: 0.9199 - val_loss: 0.1940 - val_accuracy: 0.9565\n",
            "Epoch 52/70\n",
            "31/31 [==============================] - 0s 3ms/step - loss: 0.2424 - accuracy: 0.9543 - val_loss: 0.1929 - val_accuracy: 0.9565\n",
            "Epoch 53/70\n",
            "31/31 [==============================] - 0s 3ms/step - loss: 0.3520 - accuracy: 0.9351 - val_loss: 0.1919 - val_accuracy: 0.9565\n",
            "Epoch 54/70\n",
            "31/31 [==============================] - 0s 4ms/step - loss: 0.3738 - accuracy: 0.9329 - val_loss: 0.1907 - val_accuracy: 0.9565\n",
            "Epoch 55/70\n",
            "31/31 [==============================] - 0s 3ms/step - loss: 0.2403 - accuracy: 0.9453 - val_loss: 0.1883 - val_accuracy: 0.9565\n",
            "Epoch 56/70\n",
            "31/31 [==============================] - 0s 4ms/step - loss: 0.3121 - accuracy: 0.9296 - val_loss: 0.1879 - val_accuracy: 0.9565\n",
            "Epoch 57/70\n",
            "31/31 [==============================] - 0s 3ms/step - loss: 0.4585 - accuracy: 0.9181 - val_loss: 0.1882 - val_accuracy: 0.9565\n",
            "Epoch 58/70\n",
            "31/31 [==============================] - 0s 3ms/step - loss: 0.2887 - accuracy: 0.9390 - val_loss: 0.1875 - val_accuracy: 0.9565\n",
            "Epoch 59/70\n",
            "31/31 [==============================] - 0s 3ms/step - loss: 0.2578 - accuracy: 0.9440 - val_loss: 0.1875 - val_accuracy: 0.9565\n",
            "Epoch 60/70\n",
            "31/31 [==============================] - 0s 3ms/step - loss: 0.3301 - accuracy: 0.9233 - val_loss: 0.1863 - val_accuracy: 0.9565\n",
            "Epoch 61/70\n",
            "31/31 [==============================] - 0s 3ms/step - loss: 0.2594 - accuracy: 0.9442 - val_loss: 0.1857 - val_accuracy: 0.9589\n",
            "Epoch 62/70\n",
            "31/31 [==============================] - 0s 3ms/step - loss: 0.2810 - accuracy: 0.9349 - val_loss: 0.1861 - val_accuracy: 0.9565\n",
            "Epoch 63/70\n",
            "31/31 [==============================] - 0s 3ms/step - loss: 0.2841 - accuracy: 0.9364 - val_loss: 0.1853 - val_accuracy: 0.9565\n",
            "Epoch 64/70\n",
            "31/31 [==============================] - 0s 3ms/step - loss: 0.3528 - accuracy: 0.9317 - val_loss: 0.1847 - val_accuracy: 0.9565\n",
            "Epoch 65/70\n",
            "31/31 [==============================] - 0s 3ms/step - loss: 0.2344 - accuracy: 0.9477 - val_loss: 0.1841 - val_accuracy: 0.9565\n",
            "Epoch 66/70\n",
            "31/31 [==============================] - 0s 3ms/step - loss: 0.2438 - accuracy: 0.9391 - val_loss: 0.1825 - val_accuracy: 0.9565\n",
            "Epoch 67/70\n",
            "31/31 [==============================] - 0s 3ms/step - loss: 0.3525 - accuracy: 0.9313 - val_loss: 0.1810 - val_accuracy: 0.9589\n",
            "Epoch 68/70\n",
            "31/31 [==============================] - 0s 3ms/step - loss: 0.2783 - accuracy: 0.9299 - val_loss: 0.1791 - val_accuracy: 0.9589\n",
            "Epoch 69/70\n",
            "31/31 [==============================] - 0s 4ms/step - loss: 0.2948 - accuracy: 0.9362 - val_loss: 0.1792 - val_accuracy: 0.9589\n",
            "Epoch 70/70\n",
            "31/31 [==============================] - 0s 4ms/step - loss: 0.2386 - accuracy: 0.9416 - val_loss: 0.1788 - val_accuracy: 0.9589\n"
          ],
          "name": "stdout"
        },
        {
          "output_type": "execute_result",
          "data": {
            "text/plain": [
              "<tensorflow.python.keras.callbacks.History at 0x7f6f39b11f90>"
            ]
          },
          "metadata": {
            "tags": []
          },
          "execution_count": 34
        }
      ]
    },
    {
      "cell_type": "code",
      "metadata": {
        "colab": {
          "base_uri": "https://localhost:8080/"
        },
        "id": "TjSdMd5AOSyZ",
        "outputId": "52e9c829-43bb-4348-ae4b-92b0fa600871"
      },
      "source": [
        "loss, accuracy = model.evaluate(test_data, test_labels)"
      ],
      "execution_count": 35,
      "outputs": [
        {
          "output_type": "stream",
          "text": [
            "19/19 [==============================] - 0s 1ms/step - loss: 0.2085 - accuracy: 0.9492\n"
          ],
          "name": "stdout"
        }
      ]
    },
    {
      "cell_type": "code",
      "metadata": {
        "colab": {
          "base_uri": "https://localhost:8080/"
        },
        "id": "nV0EpppTOSya",
        "outputId": "b9918024-20ae-4c16-fbe2-7458753a82b2"
      },
      "source": [
        "loss"
      ],
      "execution_count": 36,
      "outputs": [
        {
          "output_type": "execute_result",
          "data": {
            "text/plain": [
              "0.20848117768764496"
            ]
          },
          "metadata": {
            "tags": []
          },
          "execution_count": 36
        }
      ]
    },
    {
      "cell_type": "code",
      "metadata": {
        "colab": {
          "base_uri": "https://localhost:8080/"
        },
        "id": "BZn5LHZAOSyb",
        "outputId": "2329ace8-e282-4857-a565-4c39e8e72e12"
      },
      "source": [
        "accuracy"
      ],
      "execution_count": 37,
      "outputs": [
        {
          "output_type": "execute_result",
          "data": {
            "text/plain": [
              "0.9491525292396545"
            ]
          },
          "metadata": {
            "tags": []
          },
          "execution_count": 37
        }
      ]
    },
    {
      "cell_type": "code",
      "metadata": {
        "id": "Yol7oTUuOSyb"
      },
      "source": [
        "predictions = model.predict(test_data)"
      ],
      "execution_count": 38,
      "outputs": []
    },
    {
      "cell_type": "code",
      "metadata": {
        "id": "CFfUCXeGOSyc"
      },
      "source": [
        "y_pred = (predictions > 0.5)"
      ],
      "execution_count": 39,
      "outputs": []
    },
    {
      "cell_type": "code",
      "metadata": {
        "id": "HRyEqbZGOSyc"
      },
      "source": [
        "conf_matrix = tf.math.confusion_matrix(\n",
        "    test_labels, y_pred, num_classes=2, weights=None, dtype=tf.dtypes.int32,\n",
        "    name=None\n",
        ")"
      ],
      "execution_count": 40,
      "outputs": []
    },
    {
      "cell_type": "code",
      "metadata": {
        "colab": {
          "base_uri": "https://localhost:8080/"
        },
        "id": "VEHLTKXEOSyd",
        "outputId": "0c0a8e60-e94e-4688-802b-fe80cb3622a5"
      },
      "source": [
        "conf_matrix"
      ],
      "execution_count": 41,
      "outputs": [
        {
          "output_type": "execute_result",
          "data": {
            "text/plain": [
              "<tf.Tensor: shape=(2, 2), dtype=int32, numpy=\n",
              "array([[445,   3],\n",
              "       [ 27, 115]], dtype=int32)>"
            ]
          },
          "metadata": {
            "tags": []
          },
          "execution_count": 41
        }
      ]
    },
    {
      "cell_type": "code",
      "metadata": {
        "colab": {
          "base_uri": "https://localhost:8080/"
        },
        "id": "pN-5kb6fOSyd",
        "outputId": "fd05b4e0-f867-4d32-8e7f-e980bc88aa51"
      },
      "source": [
        "result = accuracy * 100\n",
        "result"
      ],
      "execution_count": 42,
      "outputs": [
        {
          "output_type": "execute_result",
          "data": {
            "text/plain": [
              "94.91525292396545"
            ]
          },
          "metadata": {
            "tags": []
          },
          "execution_count": 42
        }
      ]
    }
  ]
}